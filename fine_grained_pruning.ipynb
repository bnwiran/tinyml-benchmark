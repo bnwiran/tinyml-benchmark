{
  "cells": [
    {
      "cell_type": "markdown",
      "metadata": {
        "id": "view-in-github",
        "colab_type": "text"
      },
      "source": [
        "<a href=\"https://colab.research.google.com/github/bnwiran/tinyml-benchmark/blob/master/fine_grained_pruning.ipynb\" target=\"_parent\"><img src=\"https://colab.research.google.com/assets/colab-badge.svg\" alt=\"Open In Colab\"/></a>"
      ]
    },
    {
      "cell_type": "markdown",
      "metadata": {
        "id": "RdC9V9xB10Gt"
      },
      "source": [
        "# **MIT 6.S965 Fall 2022: Lab 1 Pruning**"
      ]
    },
    {
      "cell_type": "code",
      "execution_count": null,
      "metadata": {
        "id": "Xn0Y20pA8nwL"
      },
      "outputs": [],
      "source": [
        "from models import utils\n",
        "from metric import metric\n",
        "from prune.pruner import Pruner, ChannelPruner, FineGrainedPruner\n",
        "import torch\n",
        "from torch.utils.data import DataLoader\n",
        "from torchvision.transforms import Compose, RandomCrop, RandomHorizontalFlip, ToTensor\n",
        "from torchvision.datasets import CIFAR10\n",
        "from matplotlib import pyplot as plt\n",
        "from models.models import VGG"
      ]
    },
    {
      "cell_type": "code",
      "execution_count": null,
      "metadata": {
        "id": "FB3VmCAvAELD"
      },
      "outputs": [],
      "source": [
        "Byte = 8\n",
        "KiB = 1024 * Byte\n",
        "MiB = 1024 * KiB\n",
        "GiB = 1024 * MiB"
      ]
    },
    {
      "cell_type": "code",
      "execution_count": null,
      "metadata": {
        "id": "E7QcjMKM85HP"
      },
      "outputs": [],
      "source": [
        "utils.set_seed(0)"
      ]
    },
    {
      "cell_type": "code",
      "execution_count": null,
      "metadata": {
        "id": "ZzrMaetd9Yci"
      },
      "outputs": [],
      "source": [
        "checkpoint = torch.load('vgg.cifar.pretrained.pth', map_location=\"cpu\")\n",
        "model = VGG()\n",
        "model.load_state_dict(checkpoint['state_dict'])\n",
        "recover_model = lambda: model.load_state_dict(checkpoint['state_dict'])"
      ]
    },
    {
      "cell_type": "code",
      "execution_count": null,
      "metadata": {
        "id": "NLYqk61hlEyZ"
      },
      "outputs": [],
      "source": [
        "def test_fine_grained_prune(\n",
        "    test_tensor=torch.tensor([[-0.46, -0.40, 0.39, 0.19, 0.37],\n",
        "                              [0.00, 0.40, 0.17, -0.15, 0.16],\n",
        "                              [-0.20, -0.23, 0.36, 0.25, 0.03],\n",
        "                              [0.24, 0.41, 0.07, 0.13, -0.15],\n",
        "                              [0.48, -0.09, -0.36, 0.12, 0.45]]),\n",
        "    test_mask=torch.tensor([[True, True, False, False, False],\n",
        "                            [False, True, False, False, False],\n",
        "                            [False, False, False, False, False],\n",
        "                            [False, True, False, False, False],\n",
        "                            [True, False, False, False, True]]),\n",
        "    target_sparsity=0.75, target_nonzeros=None):\n",
        "    def plot_matrix(tensor, ax, title):\n",
        "        ax.imshow(tensor.cpu().numpy() == 0, vmin=0, vmax=1, cmap='tab20c')\n",
        "        ax.set_title(title)\n",
        "        ax.set_yticklabels([])\n",
        "        ax.set_xticklabels([])\n",
        "        for i in range(tensor.shape[1]):\n",
        "            for j in range(tensor.shape[0]):\n",
        "                text = ax.text(j, i, f'{tensor[i, j].item():.2f}',\n",
        "                                ha=\"center\", va=\"center\", color=\"k\")\n",
        "\n",
        "    test_tensor = test_tensor.clone()\n",
        "    fig, axes = plt.subplots(1,2, figsize=(6, 10))\n",
        "    ax_left, ax_right = axes.ravel()\n",
        "    plot_matrix(test_tensor, ax_left, 'dense tensor')\n",
        "\n",
        "    sparsity_before_pruning = utils.get_sparsity(test_tensor)\n",
        "    mask = FineGrainedPruner.prune_tensor(test_tensor, target_sparsity)\n",
        "    sparsity_after_pruning = utils.get_sparsity(test_tensor)\n",
        "    sparsity_of_mask = utils.get_sparsity(mask)\n",
        "\n",
        "    plot_matrix(test_tensor, ax_right, 'sparse tensor')\n",
        "    fig.tight_layout()\n",
        "    plt.show()\n",
        "\n",
        "    print('* Test fine_grained_prune()')\n",
        "    print(f'    target sparsity: {target_sparsity:.2f}')\n",
        "    print(f'        sparsity before pruning: {sparsity_before_pruning:.2f}')\n",
        "    print(f'        sparsity after pruning: {sparsity_after_pruning:.2f}')\n",
        "    print(f'        sparsity of pruning mask: {sparsity_of_mask:.2f}')\n",
        "\n",
        "    if target_nonzeros is None:\n",
        "        if test_mask.equal(mask):\n",
        "            print('* Test passed.')\n",
        "        else:\n",
        "            print('* Test failed.')\n",
        "    else:\n",
        "        if mask.count_nonzero() == target_nonzeros:\n",
        "            print('* Test passed.')\n",
        "        else:\n",
        "            print('* Test failed.')"
      ]
    },
    {
      "cell_type": "markdown",
      "metadata": {
        "id": "Kx48A6hRhXxB"
      },
      "source": [
        "Load the pretrained model and the CIFAR-10 dataset."
      ]
    },
    {
      "cell_type": "code",
      "execution_count": null,
      "metadata": {
        "colab": {
          "base_uri": "https://localhost:8080/"
        },
        "id": "ZxBWrQIeoSu6",
        "outputId": "96ff901e-c6c3-4a4e-ed91-b7fe4e702859"
      },
      "outputs": [
        {
          "name": "stdout",
          "output_type": "stream",
          "text": [
            "Files already downloaded and verified\n",
            "Files already downloaded and verified\n"
          ]
        }
      ],
      "source": [
        "image_size = 32\n",
        "transforms = {\n",
        "    \"train\": Compose([\n",
        "        RandomCrop(image_size, padding=4),\n",
        "        RandomHorizontalFlip(),\n",
        "        ToTensor(),\n",
        "    ]),\n",
        "    \"test\": ToTensor(),\n",
        "}\n",
        "dataset = {}\n",
        "for split in [\"train\", \"test\"]:\n",
        "  dataset[split] = CIFAR10(\n",
        "    root=\"data/cifar10\",\n",
        "    train=(split == \"train\"),\n",
        "    download=True,\n",
        "    transform=transforms[split],\n",
        "  )\n",
        "dataloader = {}\n",
        "for split in ['train', 'test']:\n",
        "  dataloader[split] = DataLoader(\n",
        "    dataset[split],\n",
        "    batch_size=512,\n",
        "    shuffle=(split == 'train'),\n",
        "    num_workers=0,\n",
        "    pin_memory=True,\n",
        "  )"
      ]
    },
    {
      "cell_type": "markdown",
      "metadata": {
        "id": "rjESsg5nkdBG"
      },
      "source": [
        "# Let's First Evaluate the Accuracy and Model Size of Dense Model"
      ]
    },
    {
      "cell_type": "markdown",
      "metadata": {
        "id": "mMjz8MHjZRLg"
      },
      "source": [
        "Neural networks have become ubiquitous in many applications. Here we have loaded a pretrained VGG model for classifying images in CIFAR10 dataset.\n",
        "\n",
        "Let's first evaluate the accuracy and model size of this model."
      ]
    },
    {
      "cell_type": "code",
      "execution_count": null,
      "metadata": {
        "colab": {
          "base_uri": "https://localhost:8080/",
          "height": 52,
          "referenced_widgets": [
            "c416fdcd38ea4f5790bee23aa1f3b054",
            "2432662a90584156ad3fb3d28c5a8737",
            "9cfe110ce630400cb5840e7aa9790c05",
            "7450cf8eb1a3474ab0ab62d4c81dad79",
            "981407ed4fe44b36befa6a60982e0d62",
            "0e6c5516ff6a47868919d6289b30715d",
            "35ec408a00f740ac9101e64b60553dae",
            "840344d575f94f20b744d21fcb1b8b59",
            "6d0d47e9e51d4898ae87ddbdb08447ad",
            "55ed4ab2fa52442ea8d69f0e504abe44",
            "63789707d3244b4586ce43a64a3824ea"
          ]
        },
        "id": "DTiA8hxMkkbU",
        "outputId": "dbfce209-6dc0-4a32-e023-34864a1da4e8"
      },
      "outputs": [
        {
          "data": {
            "application/vnd.jupyter.widget-view+json": {
              "model_id": "c416fdcd38ea4f5790bee23aa1f3b054",
              "version_major": 2,
              "version_minor": 0
            },
            "text/plain": [
              "eval:   0%|          | 0/20 [00:00<?, ?it/s]"
            ]
          },
          "metadata": {},
          "output_type": "display_data"
        },
        {
          "name": "stdout",
          "output_type": "stream",
          "text": [
            "dense model has accuracy=92.95%\n",
            "dense model has size=35.20 MiB\n"
          ]
        }
      ],
      "source": [
        "dense_model_accuracy = model.evaluate(dataloader['test'])\n",
        "dense_model_size = utils.get_model_size(model)\n",
        "print(f\"dense model has accuracy={dense_model_accuracy:.2f}%\")\n",
        "print(f\"dense model has size={dense_model_size/MiB:.2f} MiB\")"
      ]
    },
    {
      "cell_type": "markdown",
      "metadata": {
        "id": "G-Oj8IYkxKst"
      },
      "source": [
        "While large neural networks are very powerful, their size consumes considerable storage, memory bandwidth, and computational resources.\n",
        "As we can see from the results above, a model for the task as simple as classifying $32\\times32$ images into 10 classes can be as large as 35 MiB.\n",
        "For embedded mobile applications, these resource demands become prohibitive."
      ]
    },
    {
      "cell_type": "markdown",
      "metadata": {
        "id": "05ebw8KW1wDj"
      },
      "source": [
        "Therefore, neural network pruning is exploited to facilitates storage and transmission of mobile applications incorporating DNNs.\n",
        "\n",
        "The goal of pruning is to reduce the model size while maintaining the accuracy."
      ]
    },
    {
      "cell_type": "markdown",
      "metadata": {
        "id": "9EtFfSfCumT6"
      },
      "source": [
        "# Let's see the distribution of weight values"
      ]
    },
    {
      "cell_type": "markdown",
      "metadata": {
        "id": "0LNx2qCtZFlh"
      },
      "source": [
        "Before we jump into pruning, let's see the distribution of weight values in the dense model."
      ]
    },
    {
      "cell_type": "code",
      "execution_count": null,
      "metadata": {
        "colab": {
          "base_uri": "https://localhost:8080/",
          "height": 609
        },
        "id": "qg2rkEo8umkb",
        "outputId": "847334ae-2414-42c0-e1ab-8fb4ba7fe122"
      },
      "outputs": [
        {
          "data": {
            "image/png": "[encoded data removed]",
            "text/plain": [
              "<Figure size 1000x600 with 9 Axes>"
            ]
          },
          "metadata": {},
          "output_type": "display_data"
        }
      ],
      "source": [
        "utils.plot_weight_distribution(model)"
      ]
    },
    {
      "cell_type": "code",
      "execution_count": null,
      "metadata": {
        "colab": {
          "base_uri": "https://localhost:8080/",
          "height": 440
        },
        "id": "tqKLOsLdihcX",
        "outputId": "c068d3e7-644c-4a3e-d25f-50e8fbd7f6f4"
      },
      "outputs": [
        {
          "data": {
            "image/png": "[encoded data removed]",
            "text/plain": [
              "<Figure size 600x1000 with 2 Axes>"
            ]
          },
          "metadata": {},
          "output_type": "display_data"
        },
        {
          "name": "stdout",
          "output_type": "stream",
          "text": [
            "* Test fine_grained_prune()\n",
            "    target sparsity: 0.75\n",
            "        sparsity before pruning: 0.04\n",
            "        sparsity after pruning: 0.76\n",
            "        sparsity of pruning mask: 0.76\n",
            "* Test passed.\n"
          ]
        }
      ],
      "source": [
        "test_fine_grained_prune()"
      ]
    },
    {
      "cell_type": "markdown",
      "metadata": {
        "id": "9GdyRrweym49"
      },
      "source": [
        "### Question 3 (5 pts)"
      ]
    },
    {
      "cell_type": "markdown",
      "metadata": {
        "id": "YxQyShwLylw4"
      },
      "source": [
        "The last cell plots the tensor before and after pruning. Nonzeros are rendered in blue while zeros are rendered in gray. Please modify the value of `target_sparsity` in the following code cell so that there are only 10 nonzeros in the sparse tensor after pruning."
      ]
    },
    {
      "cell_type": "code",
      "execution_count": null,
      "metadata": {
        "colab": {
          "base_uri": "https://localhost:8080/",
          "height": 440
        },
        "id": "E5Q3jj6YArPa",
        "outputId": "9f76aa40-6920-4420-f051-ba648ee77d48"
      },
      "outputs": [
        {
          "data": {
            "image/png": "[encoded data removed]",
            "text/plain": [
              "<Figure size 600x1000 with 2 Axes>"
            ]
          },
          "metadata": {},
          "output_type": "display_data"
        },
        {
          "name": "stdout",
          "output_type": "stream",
          "text": [
            "* Test fine_grained_prune()\n",
            "    target sparsity: 0.60\n",
            "        sparsity before pruning: 0.04\n",
            "        sparsity after pruning: 0.60\n",
            "        sparsity of pruning mask: 0.60\n",
            "* Test passed.\n"
          ]
        }
      ],
      "source": [
        "##################### YOUR CODE STARTS HERE #####################\n",
        "target_sparsity = 15/25 # please modify the value of target_sparsity\n",
        "##################### YOUR CODE ENDS HERE #####################\n",
        "test_fine_grained_prune(target_sparsity=target_sparsity, target_nonzeros=10)"
      ]
    },
    {
      "cell_type": "markdown",
      "metadata": {
        "id": "Rse5ur_eDj9C"
      },
      "source": [
        "We now wrap the fine-grained pruning function into a class for pruning the whole model. In class `FineGrainedPruner`, we have to keep a record of the pruning masks so that we could apply the masks whenever the model weights change to make sure the model keep sparse all the time."
      ]
    },
    {
      "cell_type": "markdown",
      "metadata": {
        "id": "1pH3xlQFs3nE"
      },
      "source": [
        "## Sensitivity Scan\n"
      ]
    },
    {
      "cell_type": "markdown",
      "metadata": {
        "id": "O7L8Lm4_bCSY"
      },
      "source": [
        "Different layers contribute differently to the model performance. It is challenging to decide the proper sparsity for each layer. A widely used approach is sensitivity scan.\n",
        "\n",
        "During the sensitivity scan, at each time, we will only prune one layer to see the accuracy degradation. By scanning different sparsities, we could draw the sensitivity curve (i.e., accuracy vs. sparsity) of the corresponding layer.\n",
        "\n",
        "Here is an example figure for sensitivity curves. The x-axis is the sparsity or the percentage of #parameters dropped (*i.e.*, sparsity). The y-axis is the validation accuracy. (This is Figure 6 in [Learning both Weights and Connections for Efficient\n",
        "Neural Networks](https://arxiv.org/pdf/1506.02626.pdf))\n"
      ]
    },
    {
      "cell_type": "markdown",
      "metadata": {
        "id": "OSQ1jR8YE8-d"
      },
      "source": [
        "![sensitivity curves.png](data:image/png;base64,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)"
      ]
    },
    {
      "cell_type": "markdown",
      "metadata": {
        "id": "6f3YWd7eDpY7"
      },
      "source": [
        "The following code cell defines the sensitivity scan function that returns the sparsities scanned, and a list of accuracies for each weight to be pruned."
      ]
    },
    {
      "cell_type": "markdown",
      "metadata": {
        "id": "pB_YNZ2iDXyj"
      },
      "source": [
        "Please run the following cells to plot the sensitivity curves. It should take around 2 minutes to finish."
      ]
    },
    {
      "cell_type": "code",
      "execution_count": null,
      "metadata": {
        "colab": {
          "background_save": true,
          "base_uri": "https://localhost:8080/",
          "height": 363,
          "referenced_widgets": [
            "1f297cb7f8d145a09cc6b0f645882e7d",
            "e32d433856404053b85d302ede16b532",
            "8fc11745a55644ff99ea6d7481f9c487",
            "819c696a518d479184ee9fb28ff2254e",
            "180b85a705544e0fa9f9ffafe5cae36d",
            "37c539f5b4924ca991b8fd5e4fc2b9c5",
            "7a8b7bd40b004912bcce251feff0fd23",
            "4ca22813055f42818acd36ab1300edc0",
            "378df28070df4d20a53008c7bd4b0fca",
            "612ebb4ab18a4dc2959c3b57782309f6",
            "6386d8eb49094e5d9ff5ca02c14d5b71",
            "ebce20b000ce437189c082cb81b24ba8",
            "f2bd01fe95d14f56be7a451e2f8831cf",
            "e5cafa86016c4e76b50489e719c8df0a",
            "e9e89fbac9534bc197563fad999f2567",
            "0ab7f80cca374272925bf5dabf98d2ba",
            "55f3ee630eb14135928b962edefd7c01",
            "d8ea7fb9f94243b1a11b9ea9d329902d",
            "710f4b9d41d047ab8b688e16b6cb9c06",
            "d6a633659f7943aeb46360539763fdeb",
            "a4fcf3a47189475a9c1781f06dcf3d49",
            "882430b89b2a456ca84405597e972399",
            "c4b423f1d9634744a98e0e83a99310c9",
            "96e3c0a93978469ea68b76c4f2024ca9",
            "6cb14b175a4a4550843db50bfeeebc73",
            "f94829ad3d09437a9b787e5926978e9f",
            "c98dc98433dc49e5b1144ba8ce129278",
            "ac124bd3899b48379ee2e2969f6aa09b",
            "2ca8e91c97a14f8e8fed0c7ed4f7c3ed",
            "29bcb2641a9740d7ba9aec305b53a57d",
            "680c87524ee44deb8e8e6822858e971a",
            "13715babb5f041898b44b6d328f90878",
            "b48141ec2cc4485a9b354d29ccd3025b",
            "3c6c0bafcedd4b518435dd801df0ba5b",
            "5147d1523eb9488fb6e0d1f1b0117b96",
            "8ebef3298d164c23a8bd2ab324f62bf5",
            "3f4be556f57b4226bfc8eba4c7d42827",
            "38fb3e840db84861afb68580636e8114",
            "8ec24ec3a68e4defb9ec271e265971e4",
            "565c36e7d4c74bf3959653f91e4869be",
            "1e35b4a326d9474da47e9545f7613387",
            "8d27d20794624f01bd7914a3db19e895",
            "b3ebd3b206914b3f9f8ef7b086fc1322",
            "ce85f450487f4faf8f3475d80f06882b",
            "3226b5a355ca4e72bb8bf36ef8052cdb",
            "302997e1f624480788f52bb33986f142",
            "093154641e384efc9f2c74e2e63d7bf2",
            "f0f44f517f9f454fae997b1b23122c13",
            "b547cd6093664bde94f2626e26d17673",
            "6544a39108e642a6a5645b9850bec8d7",
            "41eac47478ad451385e074797ca3cdee",
            "5544ec7e2fb54c58b1c1c16a87f94e10",
            "9a0aa8a23d3949d9850d015c39211c6f",
            "6f8cf5ecfb02417d825b553c88b47b6f",
            "5bf5204e2dd84717839fee1dbb62c432",
            "c8d5df1182994784bade12020d5f9d25",
            "d36d187680154c92a6c169802fce7c37",
            "f4f9dafe630e480c995219c01d3b12d0",
            "6c9f13a9acb24b79a4f7c290932bb112",
            "48a9f312b5f24bd580071afac09edc75",
            "b9eacdc266de4e759a79236746964e87",
            "4e8cc06d6d1949799e574d31cad14c16",
            "998f65f66895474a9d4e9e7464dc89c7",
            "e3c03580a444475f85220a2bcee979f2",
            "73ad483d5bbc4eaa8ad40a7bef9fe5bf",
            "e57fc95c14374bdc83d2450af04f3147",
            "99d26ca662da483dbec4ca41c818e892",
            "20b561915e37462081187443f668966f",
            "c1a98c57d06345f0874274a94d14cdda",
            "ddd2750a7e484cfeb263bebe206caa51",
            "f4fd363a5c6c4e1c8059c1356471ee20",
            "95420f4eb9694fc384cdc6e091e23c46",
            "8d52649689e8481785b0b0d11a641ae8",
            "2c83683d2aea4f3e9a23ff8b18cee515",
            "2bb650577eef4e78bda3be996f379e13",
            "4b5d5caa42324e97b6fb49cd30e0e83f",
            "772c73fbba9048e6afb5e9773bbae7da",
            "58eeed6aa6874ecaba9f05f6133f0991",
            "55695012585548caa880bc6f25a19844"
          ]
        },
        "id": "tQN88zrsIRjE",
        "outputId": "7aef5e5a-deef-4293-8808-783f636a5ebb"
      },
      "outputs": [
        {
          "data": {
            "application/vnd.jupyter.widget-view+json": {
              "model_id": "1f297cb7f8d145a09cc6b0f645882e7d",
              "version_major": 2,
              "version_minor": 0
            },
            "text/plain": [
              "scanning 1/9 weight - backbone.conv0.weight:   0%|          | 0/6 [00:00<?, ?it/s]"
            ]
          },
          "metadata": {},
          "output_type": "display_data"
        },
        {
          "name": "stdout",
          "output_type": "stream",
          "text": [
            "    sparsity=[0.40,0.50,0.60,0.70,0.80,0.90]: accuracy=[92.42%, 91.19%, 87.55%, 83.39%, 69.41%, 31.81%]"
          ]
        },
        {
          "data": {
            "application/vnd.jupyter.widget-view+json": {
              "model_id": "ebce20b000ce437189c082cb81b24ba8",
              "version_major": 2,
              "version_minor": 0
            },
            "text/plain": [
              "scanning 2/9 weight - backbone.conv1.weight:   0%|          | 0/6 [00:00<?, ?it/s]"
            ]
          },
          "metadata": {},
          "output_type": "display_data"
        },
        {
          "name": "stdout",
          "output_type": "stream",
          "text": [
            "    sparsity=[0.40,0.50,0.60,0.70,0.80,0.90]: accuracy=[92.93%, 92.88%, 92.71%, 92.40%, 91.32%, 84.78%]"
          ]
        },
        {
          "data": {
            "application/vnd.jupyter.widget-view+json": {
              "model_id": "c4b423f1d9634744a98e0e83a99310c9",
              "version_major": 2,
              "version_minor": 0
            },
            "text/plain": [
              "scanning 3/9 weight - backbone.conv2.weight:   0%|          | 0/6 [00:00<?, ?it/s]"
            ]
          },
          "metadata": {},
          "output_type": "display_data"
        },
        {
          "name": "stdout",
          "output_type": "stream",
          "text": [
            "    sparsity=[0.40,0.50,0.60,0.70,0.80,0.90]: accuracy=[92.94%, 92.64%, 92.46%, 91.77%, 89.85%, 78.56%]"
          ]
        },
        {
          "data": {
            "application/vnd.jupyter.widget-view+json": {
              "model_id": "3c6c0bafcedd4b518435dd801df0ba5b",
              "version_major": 2,
              "version_minor": 0
            },
            "text/plain": [
              "scanning 4/9 weight - backbone.conv3.weight:   0%|          | 0/6 [00:00<?, ?it/s]"
            ]
          },
          "metadata": {},
          "output_type": "display_data"
        },
        {
          "name": "stdout",
          "output_type": "stream",
          "text": [
            "    sparsity=[0.40,0.50,0.60,0.70,0.80,0.90]: accuracy=[92.86%, 92.72%, 92.23%, 91.09%, 85.35%, 51.31%]"
          ]
        },
        {
          "data": {
            "application/vnd.jupyter.widget-view+json": {
              "model_id": "3226b5a355ca4e72bb8bf36ef8052cdb",
              "version_major": 2,
              "version_minor": 0
            },
            "text/plain": [
              "scanning 5/9 weight - backbone.conv4.weight:   0%|          | 0/6 [00:00<?, ?it/s]"
            ]
          },
          "metadata": {},
          "output_type": "display_data"
        },
        {
          "name": "stdout",
          "output_type": "stream",
          "text": [
            "    sparsity=[0.40,0.50,0.60,0.70,0.80,0.90]: accuracy=[92.88%, 92.68%, 92.22%, 89.47%, 76.87%, 38.78%]"
          ]
        },
        {
          "data": {
            "application/vnd.jupyter.widget-view+json": {
              "model_id": "c8d5df1182994784bade12020d5f9d25",
              "version_major": 2,
              "version_minor": 0
            },
            "text/plain": [
              "scanning 6/9 weight - backbone.conv5.weight:   0%|          | 0/6 [00:00<?, ?it/s]"
            ]
          },
          "metadata": {},
          "output_type": "display_data"
        },
        {
          "name": "stdout",
          "output_type": "stream",
          "text": [
            "    sparsity=[0.40,0.50,0.60,0.70,0.80,0.90]: accuracy=[92.92%, 92.71%, 92.63%, 91.88%, 89.90%, 82.19%]"
          ]
        },
        {
          "data": {
            "application/vnd.jupyter.widget-view+json": {
              "model_id": "99d26ca662da483dbec4ca41c818e892",
              "version_major": 2,
              "version_minor": 0
            },
            "text/plain": [
              "scanning 7/9 weight - backbone.conv6.weight:   0%|          | 0/6 [00:00<?, ?it/s]"
            ]
          },
          "metadata": {},
          "output_type": "display_data"
        },
        {
          "name": "stdout",
          "output_type": "stream",
          "text": [
            "    sparsity=[0.40,0.50,0.60,0.70,0.80,0.90]: accuracy=[92.94%, 92.86%, 92.65%, 92.10%, 90.58%, 83.65%]"
          ]
        },
        {
          "data": {
            "application/vnd.jupyter.widget-view+json": {
              "model_id": "58eeed6aa6874ecaba9f05f6133f0991",
              "version_major": 2,
              "version_minor": 0
            },
            "text/plain": [
              "scanning 8/9 weight - backbone.conv7.weight:   0%|          | 0/6 [00:00<?, ?it/s]"
            ]
          },
          "metadata": {},
          "output_type": "display_data"
        },
        {
          "name": "stdout",
          "output_type": "stream",
          "text": [
            "    sparsity=[0.40,0.50,0.60,0.70,0.80,0.90]: accuracy=[92.94%, 92.92%, 92.88%, 92.81%, 92.63%, 91.34%]"
          ]
        },
        {
          "data": {
            "application/vnd.jupyter.widget-view+json": {
              "model_id": "55695012585548caa880bc6f25a19844",
              "version_major": 2,
              "version_minor": 0
            },
            "text/plain": [
              "scanning 9/9 weight - classifier.weight:   0%|          | 0/6 [00:00<?, ?it/s]"
            ]
          },
          "metadata": {},
          "output_type": "display_data"
        },
        {
          "name": "stdout",
          "output_type": "stream",
          "text": [
            "    sparsity=[0.40,0.50,0.60,0.70,0.80,0.90]: accuracy=[92.91%, 92.83%, 92.81%, 92.97%, 92.68%, 92.52%]"
          ]
        }
      ],
      "source": [
        "sparsities, accuracies = Pruner.sensitivity_scan(\n",
        "    model, dataloader['test'], scan_step=0.1, scan_start=0.4, scan_end=1.0)"
      ]
    },
    {
      "cell_type": "code",
      "execution_count": null,
      "metadata": {
        "colab": {
          "background_save": true
        },
        "id": "ktK3IyAHICVC",
        "outputId": "0aa71c85-3c00-4889-eeb5-0c480ba50be0"
      },
      "outputs": [
        {
          "data": {
            "image/png": "[encoded data removed]",
            "text/plain": [
              "<Figure size 1500x800 with 9 Axes>"
            ]
          },
          "metadata": {},
          "output_type": "display_data"
        }
      ],
      "source": [
        "Pruner.plot_sensitivity_scan(model, sparsities, accuracies, dense_model_accuracy)"
      ]
    },
    {
      "cell_type": "markdown",
      "metadata": {
        "id": "w6uBecMG14pq"
      },
      "source": [
        "## \\#Parameters of each layer\n",
        "In addition to accuracy, the number of each layer's parameters also affects the decision on sparsity selection. Layers with more #parameters require larger sparsities.\n",
        "\n",
        "Please run the following code cell to plot the distribution of #parameters in the whole model."
      ]
    },
    {
      "cell_type": "code",
      "execution_count": null,
      "metadata": {
        "colab": {
          "background_save": true
        },
        "id": "P9eNjKSUGiCk",
        "outputId": "61b00cc5-f99e-46ab-a033-5a4558fcf3bc"
      },
      "outputs": [
        {
          "data": {
            "image/png": "[encoded data removed]",
            "text/plain": [
              "<Figure size 800x600 with 1 Axes>"
            ]
          },
          "metadata": {},
          "output_type": "display_data"
        }
      ],
      "source": [
        "utils.plot_num_parameters_distribution(model)"
      ]
    },
    {
      "cell_type": "markdown",
      "metadata": {
        "id": "hR7C4hJBMqmb"
      },
      "source": [
        "## Select Sparsity Based on Sensitivity Curves and \\#Parameters Distribution\n",
        "\n"
      ]
    },
    {
      "cell_type": "code",
      "execution_count": null,
      "metadata": {
        "colab": {
          "background_save": true
        },
        "id": "3D2T8n3EHwIz"
      },
      "outputs": [],
      "source": [
        "recover_model()\n",
        "\n",
        "sparsity_dict = {\n",
        "##################### YOUR CODE STARTS HERE #####################\n",
        "    # please modify the sparsity value of each layer\n",
        "    # please DO NOT modify the key of sparsity_dict\n",
        "    'backbone.conv0.weight': 0.4,\n",
        "    'backbone.conv1.weight': 0.7,\n",
        "    'backbone.conv2.weight': 0.6,\n",
        "    'backbone.conv3.weight': 0.5,\n",
        "    'backbone.conv4.weight': 0.6,\n",
        "    'backbone.conv5.weight': 0.6,\n",
        "    'backbone.conv6.weight': 0.7,\n",
        "    'backbone.conv7.weight': 0.8,\n",
        "    'classifier.weight': 0.9\n",
        "##################### YOUR CODE ENDS HERE #######################\n",
        "}"
      ]
    },
    {
      "cell_type": "markdown",
      "metadata": {
        "id": "aoJYtUuMTMwO"
      },
      "source": [
        "Please run the following cell to prune the model according to your defined `sparsity_dict`, and print the information of sparse model."
      ]
    },
    {
      "cell_type": "code",
      "execution_count": null,
      "metadata": {
        "colab": {
          "background_save": true,
          "referenced_widgets": [
            "cb353f29b0824fc380affe406a7cbae5"
          ]
        },
        "id": "LVRqhiUno65x",
        "outputId": "d16c9219-c407-46ad-838b-e1d9e42e8ebb"
      },
      "outputs": [
        {
          "name": "stdout",
          "output_type": "stream",
          "text": [
            "After pruning with sparsity dictionary\n",
            "  backbone.conv0.weight: 0.40\n",
            "  backbone.conv1.weight: 0.70\n",
            "  backbone.conv2.weight: 0.60\n",
            "  backbone.conv3.weight: 0.50\n",
            "  backbone.conv4.weight: 0.60\n",
            "  backbone.conv5.weight: 0.60\n",
            "  backbone.conv6.weight: 0.70\n",
            "  backbone.conv7.weight: 0.80\n",
            "  classifier.weight: 0.90\n",
            "The sparsity of each layer becomes\n",
            "  backbone.conv0.weight: 0.40\n",
            "  backbone.conv1.weight: 0.70\n",
            "  backbone.conv2.weight: 0.60\n",
            "  backbone.conv3.weight: 0.50\n",
            "  backbone.conv4.weight: 0.60\n",
            "  backbone.conv5.weight: 0.60\n",
            "  backbone.conv6.weight: 0.70\n",
            "  backbone.conv7.weight: 0.80\n",
            "  classifier.weight: 0.90\n",
            "Sparse model has size=11.59 MiB = 32.91% of dense model size\n"
          ]
        },
        {
          "data": {
            "application/vnd.jupyter.widget-view+json": {
              "model_id": "cb353f29b0824fc380affe406a7cbae5",
              "version_major": 2,
              "version_minor": 0
            },
            "text/plain": [
              "eval:   0%|          | 0/20 [00:00<?, ?it/s]"
            ]
          },
          "metadata": {},
          "output_type": "display_data"
        },
        {
          "name": "stdout",
          "output_type": "stream",
          "text": [
            "Sparse model has accuracy=88.98% before fintuning\n"
          ]
        },
        {
          "data": {
            "image/png": "[encoded data removed]",
            "text/plain": [
              "<Figure size 1000x600 with 9 Axes>"
            ]
          },
          "metadata": {},
          "output_type": "display_data"
        }
      ],
      "source": [
        "FineGrainedPruner.prune(model, sparsity_dict)\n",
        "print(f'After pruning with sparsity dictionary')\n",
        "for name, sparsity in sparsity_dict.items():\n",
        "    print(f'  {name}: {sparsity:.2f}')\n",
        "print(f'The sparsity of each layer becomes')\n",
        "for name, param in model.named_parameters():\n",
        "    if name in sparsity_dict:\n",
        "        print(f'  {name}: {utils.get_sparsity(param):.2f}')\n",
        "\n",
        "sparse_model_size = utils.get_model_size(model, count_nonzero_only=True)\n",
        "print(f\"Sparse model has size={sparse_model_size / MiB:.2f} MiB = {sparse_model_size / dense_model_size * 100:.2f}% of dense model size\")\n",
        "sparse_model_accuracy = model.evaluate(dataloader['test'])\n",
        "print(f\"Sparse model has accuracy={sparse_model_accuracy:.2f}% before fintuning\")\n",
        "\n",
        "utils.plot_weight_distribution(model, count_nonzero_only=True)"
      ]
    },
    {
      "cell_type": "markdown",
      "metadata": {
        "id": "RO_VGbmXoVjr"
      },
      "source": [
        "## Finetune the fine-grained pruned model"
      ]
    },
    {
      "cell_type": "markdown",
      "metadata": {
        "id": "9hBr3e-8RogD"
      },
      "source": [
        "As we can see from the outputs of previous cell, even though fine-grained pruning reduces the most of model weights, the accuracy of model also dropped. Therefore, we have to finetune the sparse model to recover the accuracy.\n",
        "\n",
        "Please run the following cell to finetune the sparse model. It should take around 3 minutes to finish."
      ]
    },
    {
      "cell_type": "code",
      "execution_count": null,
      "metadata": {
        "colab": {
          "background_save": true
        },
        "id": "-nt-UtNxloCV"
      },
      "outputs": [],
      "source": [
        "num_finetune_epochs = 5\n",
        "optimizer = torch.optim.SGD(model.parameters(), lr=0.01, momentum=0.9, weight_decay=1e-4)\n",
        "scheduler = torch.optim.lr_scheduler.CosineAnnealingLR(optimizer, num_finetune_epochs)\n",
        "criterion = nn.CrossEntropyLoss()\n",
        "\n",
        "best_sparse_model_checkpoint = dict()\n",
        "best_accuracy = 0\n",
        "print(f'Finetuning Fine-grained Pruned Sparse Model')\n",
        "for epoch in range(num_finetune_epochs):\n",
        "    # At the end of each train iteration, we have to apply the pruning mask\n",
        "    #    to keep the model sparse during the training\n",
        "    train(model, dataloader['train'], criterion, optimizer, scheduler,\n",
        "          callbacks=[lambda: FineGrainedPruner.prune(model, sparsity_dict=sparsity_dict)])\n",
        "    # accuracy = evaluate(model, dataloader['test'])\n",
        "    # is_best = accuracy > best_accuracy\n",
        "    # if is_best:\n",
        "    #     best_sparse_model_checkpoint['state_dict'] = copy.deepcopy(model.state_dict())\n",
        "    #     best_accuracy = accuracy\n",
        "    # print(f'    Epoch {epoch+1} Accuracy {accuracy:.2f}% / Best Accuracy: {best_accuracy:.2f}%')"
      ]
    },
    {
      "cell_type": "code",
      "execution_count": null,
      "metadata": {
        "colab": {
          "background_save": true
        },
        "id": "DJqfHuE6utbf"
      },
      "outputs": [],
      "source": [
        "num_finetune_epochs = 5\n",
        "optimizer = torch.optim.SGD(model.parameters(), lr=0.01, momentum=0.9, weight_decay=1e-4)\n",
        "scheduler = torch.optim.lr_scheduler.CosineAnnealingLR(optimizer, T_max=num_finetune_epochs)\n",
        "criterion = nn.CrossEntropyLoss()\n",
        "\n",
        "model.optimizer(torch.optim.SGD, lr=0.01, momentum=0.9, weight_decay=1e-4)\\\n",
        ".criterion(criterion).scheduler(torch.optim.lr_scheduler.CosineAnnealingLR,\n",
        "                                          T_max=num_finetune_epochs)\n",
        "\n",
        "best_sparse_model_checkpoint = dict()\n",
        "best_accuracy = 0\n",
        "print(f'Finetuning Fine-grained Pruned Sparse Model')\n",
        "model.fit(dataloader['train'], num_finetune_epochs,\n",
        "          callbacks=[lambda: FineGrainedPruner.prune(model, sparsity_dict=sparsity_dict)])\n",
        "\n",
        "# for epoch in range(num_finetune_epochs):\n",
        "    # At the end of each train iteration, we have to apply the pruning mask\n",
        "    #    to keep the model sparse during the training\n",
        "    # model.fit(dataloader['train'], num_finetune_epochs,\n",
        "    #           callbacks=[lambda: FineGrainedPruner.prune(model)])\n",
        "    # accuracy = model.evaluate(dataloader['test'])\n",
        "    # is_best = accuracy > best_accuracy\n",
        "    # if is_best:\n",
        "    #     best_sparse_model_checkpoint['state_dict'] = copy.deepcopy(model.state_dict())\n",
        "    #     best_accuracy = accuracy\n",
        "    # print(f'    Epoch {epoch+1} Accuracy {accuracy:.2f}% / Best Accuracy: {best_accuracy:.2f}%')"
      ]
    },
    {
      "cell_type": "markdown",
      "metadata": {
        "id": "J9mP8tbNTmzD"
      },
      "source": [
        "Run the following cell to see the information of best finetuned sparse model."
      ]
    },
    {
      "cell_type": "code",
      "execution_count": null,
      "metadata": {
        "colab": {
          "background_save": true
        },
        "id": "-mkDWmfyQ63G"
      },
      "outputs": [],
      "source": [
        "# load the best sparse model checkpoint to evaluate the final performance\n",
        "model.load_state_dict(best_sparse_model_checkpoint['state_dict'])\n",
        "sparse_model_size = utils.get_model_size(model, count_nonzero_only=True)\n",
        "print(f\"Sparse model has size={sparse_model_size / MiB:.2f} MiB = {sparse_model_size / dense_model_size * 100:.2f}% of dense model size\")\n",
        "sparse_model_accuracy = model.evaluate(dataloader['test'])\n",
        "print(f\"Sparse model has accuracy={sparse_model_accuracy:.2f}% after fintuning\")"
      ]
    },
    {
      "cell_type": "markdown",
      "metadata": {
        "id": "yAygqoc_eEax"
      },
      "source": [
        "# Channel Pruning\n",
        "\n",
        "In this section, we will implement the channel pruning. Channel pruning removes an entire channel, so that it can achieve inference speed up on existing hardware like GPUs. Similarly, we remove the channels whose weights are of smaller magnitudes (measured by Frobenius norm)."
      ]
    },
    {
      "cell_type": "code",
      "execution_count": null,
      "metadata": {
        "colab": {
          "background_save": true
        },
        "id": "sPZDhDWlQc6-"
      },
      "outputs": [],
      "source": [
        "# firstly, let's restore the model weights to the original dense version\n",
        "#   and check the validation accuracy\n",
        "recover_model()\n",
        "dense_model_accuracy = model.evaluate(dataloader['test'])\n",
        "print(f\"dense model has accuracy={dense_model_accuracy:.2f}%\")"
      ]
    },
    {
      "cell_type": "markdown",
      "metadata": {
        "id": "q9zH6n8asAy_"
      },
      "source": [
        "## Remove Channel Weights\n",
        "\n",
        "Unlike fine-grained pruning, we can remove the weights entirely from the tensor in channel pruning. That is to say, the number of output channels is reduced:\n",
        "\n",
        "> $\\#\\mathrm{out\\_channels}_{\\mathrm{new}} = \\#\\mathrm{out\\_channels}_{\\mathrm{origin}} \\cdot (1 - \\mathrm{sparsity})$\n",
        "\n",
        "The weight tensor $W$ is still dense after channel pruning. Thus, we will refer to *sparsity* as ***prune ratio***.\n",
        "\n",
        "Like fine-grained pruning, we can use different pruning rates for different layers. However, we use a uniform pruning rate for all the layers for now. We are targeting 2x computation reduction, which is roughly 30% uniform pruning rate (think about why).\n",
        "\n",
        "Feel free to try out different pruning ratios per layer at the end of this section. You can pass in a list of ratios to the `channel_prune` function."
      ]
    },
    {
      "cell_type": "markdown",
      "metadata": {
        "id": "KIGCVkQKHyDH"
      },
      "source": [
        "### Question 6 (10 pts)\n",
        "\n",
        "Please complete the following functions for channel pruning.\n",
        "\n",
        "Here we naively prune all output channels other than the first $\\#\\mathrm{out\\_channels}_{\\mathrm{new}}$ channels."
      ]
    },
    {
      "cell_type": "code",
      "execution_count": null,
      "metadata": {
        "colab": {
          "background_save": true
        },
        "id": "aFPMZzWlyvUR"
      },
      "outputs": [],
      "source": [
        "def get_num_channels_to_keep(channels: int, prune_ratio: float) -> int:\n",
        "    \"\"\"A function to calculate the number of layers to PRESERVE after pruning\n",
        "    Note that preserve_rate = 1. - prune_ratio\n",
        "    \"\"\"\n",
        "    ##################### YOUR CODE STARTS HERE #####################\n",
        "    return int(round(channels * (1 - prune_ratio)))\n",
        "    ##################### YOUR CODE ENDS HERE #####################\n",
        "\n",
        "@torch.no_grad()\n",
        "def channel_prune(model: nn.Module,\n",
        "                  prune_ratio: Union[List, float]) -> nn.Module:\n",
        "    \"\"\"Apply channel pruning to each of the conv layer in the backbone\n",
        "    Note that for prune_ratio, we can either provide a floating-point number,\n",
        "    indicating that we use a uniform pruning rate for all layers, or a list of\n",
        "    numbers to indicate per-layer pruning rate.\n",
        "    \"\"\"\n",
        "    # sanity check of provided prune_ratio\n",
        "    assert isinstance(prune_ratio, (float, list))\n",
        "    n_conv = len([m for m in model.backbone if isinstance(m, nn.Conv2d)])\n",
        "    # note that for the ratios, it affects the previous conv output and next\n",
        "    # conv input, i.e., conv0 - ratio0 - conv1 - ratio1-...\n",
        "    if isinstance(prune_ratio, list):\n",
        "        assert len(prune_ratio) == n_conv - 1\n",
        "    else:  # convert float to list\n",
        "        prune_ratio = [prune_ratio] * (n_conv - 1)\n",
        "\n",
        "    # we prune the convs in the backbone with a uniform ratio\n",
        "    model = copy.deepcopy(model)  # prevent overwrite\n",
        "    # we only apply pruning to the backbone features\n",
        "    all_convs = [m for m in model.backbone if isinstance(m, nn.Conv2d)]\n",
        "    all_bns = [m for m in model.backbone if isinstance(m, nn.BatchNorm2d)]\n",
        "    # apply pruning. we naively keep the first k channels\n",
        "    assert len(all_convs) == len(all_bns)\n",
        "    for i_ratio, p_ratio in enumerate(prune_ratio):\n",
        "        prev_conv = all_convs[i_ratio]\n",
        "        prev_bn = all_bns[i_ratio]\n",
        "        next_conv = all_convs[i_ratio + 1]\n",
        "        original_channels = prev_conv.out_channels  # same as next_conv.in_channels\n",
        "        n_keep = get_num_channels_to_keep(original_channels, p_ratio)\n",
        "\n",
        "        # prune the output of the previous conv and bn\n",
        "        prev_conv.weight.set_(prev_conv.weight.detach()[:n_keep])\n",
        "        prev_bn.weight.set_(prev_bn.weight.detach()[:n_keep])\n",
        "        prev_bn.bias.set_(prev_bn.bias.detach()[:n_keep])\n",
        "        prev_bn.running_mean.set_(prev_bn.running_mean.detach()[:n_keep])\n",
        "        prev_bn.running_var.set_(prev_bn.running_var.detach()[:n_keep])\n",
        "\n",
        "        # prune the input of the next conv (hint: just one line of code)\n",
        "        ##################### YOUR CODE STARTS HERE #####################\n",
        "        next_conv.weight.set_(next_conv.weight.detach()[:, :n_keep])\n",
        "        ##################### YOUR CODE ENDS HERE #####################\n",
        "\n",
        "    return model\n"
      ]
    },
    {
      "cell_type": "markdown",
      "metadata": {
        "id": "0IIVDYLe5Asd"
      },
      "source": [
        "Run the following cell to perform a sanity check to make sure the implementation is correct."
      ]
    },
    {
      "cell_type": "code",
      "execution_count": null,
      "metadata": {
        "colab": {
          "background_save": true
        },
        "id": "3Z2TR2Vbyo78"
      },
      "outputs": [],
      "source": [
        "from torch.nn import  Module, Conv2d, BatchNorm2d"
      ]
    },
    {
      "cell_type": "code",
      "execution_count": null,
      "metadata": {
        "colab": {
          "background_save": true
        },
        "id": "YpMDUckSzlbt"
      },
      "outputs": [],
      "source": [
        "@torch.no_grad()\n",
        "def prune(model, prune_ratio: Union[List, float]) -> Module:\n",
        "    \"\"\"Apply channel pruning to each of the conv layer in the backbone\n",
        "    Note that for prune_ratio, we can either provide a floating-point number,\n",
        "    indicating that we use a uniform pruning rate for all layers, or a list of\n",
        "    numbers to indicate per-layer pruning rate.\n",
        "    \"\"\"\n",
        "    # sanity check of provided prune_ratio\n",
        "    assert isinstance(prune_ratio, (float, list))\n",
        "    n_conv = len([m for m in model.backbone if isinstance(m, Conv2d)])\n",
        "    # note that for the ratios, it affects the previous conv output and next\n",
        "    # conv input, i.e., conv0 - ratio0 - conv1 - ratio1-...\n",
        "    if isinstance(prune_ratio, list):\n",
        "        assert len(prune_ratio) == n_conv - 1\n",
        "    else:\n",
        "        prune_ratio = [prune_ratio] * (n_conv - 1)\n",
        "\n",
        "    # we prune the convs in the backbone with a uniform ratio\n",
        "    model = copy.deepcopy(model)  # prevent overwrite\n",
        "    # we only apply pruning to the backbone features\n",
        "    all_convs = [m for m in model.backbone if isinstance(m, Conv2d)]\n",
        "    all_bns = [m for m in model.backbone if isinstance(m, BatchNorm2d)]\n",
        "    # apply pruning. we naively keep the first k channels\n",
        "    assert len(all_convs) == len(all_bns)\n",
        "\n",
        "    for i_ratio, p_ratio in enumerate(prune_ratio):\n",
        "        prev_conv = all_convs[i_ratio]\n",
        "        prev_bn = all_bns[i_ratio]\n",
        "        next_conv = all_convs[i_ratio + 1]\n",
        "        original_channels = prev_conv.out_channels  # same as next_conv.in_channels\n",
        "        n_keep = ChannelPruner.get_num_channels_to_keep(original_channels, p_ratio)\n",
        "\n",
        "        # prune the output of the previous conv and bn\n",
        "        prev_conv.weight.set_(prev_conv.weight.detach()[:n_keep])\n",
        "        prev_bn.weight.set_(prev_bn.weight.detach()[:n_keep])\n",
        "        prev_bn.bias.set_(prev_bn.bias.detach()[:n_keep])\n",
        "        prev_bn.running_mean.set_(prev_bn.running_mean.detach()[:n_keep])\n",
        "        prev_bn.running_var.set_(prev_bn.running_var.detach()[:n_keep])\n",
        "\n",
        "        # prune the input of the next conv (hint: just one line of code)\n",
        "        next_conv.weight.set_(next_conv.weight.detach()[:, :n_keep])\n",
        "\n",
        "    return model"
      ]
    },
    {
      "cell_type": "code",
      "execution_count": null,
      "metadata": {
        "colab": {
          "background_save": true
        },
        "id": "9o0cU3B34_w1"
      },
      "outputs": [],
      "source": [
        "dummy_input = torch.randn(1, 3, 32, 32).cuda()\n",
        "pruned_model = prune(model, prune_ratio=0.3)\n",
        "pruned_macs = utils.get_model_macs(pruned_model, dummy_input)\n",
        "assert pruned_macs == 305388064\n",
        "print('* Check passed. Right MACs for the pruned model.')"
      ]
    },
    {
      "cell_type": "markdown",
      "metadata": {
        "id": "6aKXW5BO6Hrf"
      },
      "source": [
        "Now let's evaluate the performance of the model after uniform channel pruning with 30% pruning rate.\n",
        "\n",
        "As you may see, directly removing 30% of the channels leads to low accuracy."
      ]
    },
    {
      "cell_type": "code",
      "execution_count": null,
      "metadata": {
        "colab": {
          "background_save": true
        },
        "id": "MyZkwnGW6aP0"
      },
      "outputs": [],
      "source": [
        "pruned_model_accuracy = model.evaluate(dataloader['test'])\n",
        "print(f\"pruned model has accuracy={pruned_model_accuracy:.2f}%\")"
      ]
    },
    {
      "cell_type": "markdown",
      "metadata": {
        "id": "SoqUbcUN6yS_"
      },
      "source": [
        "## Ranking Channels by Importance\n",
        "\n",
        "As you can see, removing the first 30% of channels in all layers leads to significant accuracy reduction. One potential method to remedy the issue is to find the **less important** channel weights to remove. A popular criterion for importance is to use the Frobenius norm of the weights corresponding to each input channel:\n",
        "\n",
        "> $importance_{i} = \\|W_{i}\\|_2, \\;\\; i = 0, 1, 2,\\cdots, \\#\\mathrm{in\\_channels}-1$\n",
        "\n",
        "We can sort the channel weights from more important to less important, and then keep the frst $k$ channels for each layer."
      ]
    },
    {
      "cell_type": "markdown",
      "metadata": {
        "id": "AUOLUBjbNLbq"
      },
      "source": [
        "### Question 7 (15 pts)\n",
        "Please complete the following functions for sorting the weight tensor based on the Frobenius norm.\n",
        "\n",
        "**Hint**:\n",
        "* To calculate Frobenius norm of a tensor, Pytorch provides [`torch.norm`](https://pytorch.org/docs/master/generated/torch.norm.html?highlight=torch+norm#torch.norm) APIs."
      ]
    },
    {
      "cell_type": "code",
      "execution_count": null,
      "metadata": {
        "colab": {
          "background_save": true
        },
        "id": "8fpUuOmmsJQZ"
      },
      "outputs": [],
      "source": [
        "# function to sort the channels from important to non-important\n",
        "def get_input_channel_importance(weight):\n",
        "    in_channels = weight.shape[1]\n",
        "    importances = []\n",
        "    # compute the importance for each input channel\n",
        "    for i_c in range(in_channels):\n",
        "        channel_weight = weight.detach()[:, i_c]\n",
        "        ##################### YOUR CODE STARTS HERE #####################\n",
        "        importance = torch.norm(channel_weight)\n",
        "        ##################### YOUR CODE ENDS HERE #####################\n",
        "        importances.append(importance.view(1))\n",
        "    return torch.cat(importances)\n",
        "\n",
        "@torch.no_grad()\n",
        "def apply_channel_sorting(model):\n",
        "    model = copy.deepcopy(model)  # do not modify the original model\n",
        "    # fetch all the conv and bn layers from the backbone\n",
        "    all_convs = [m for m in model.backbone if isinstance(m, nn.Conv2d)]\n",
        "    all_bns = [m for m in model.backbone if isinstance(m, nn.BatchNorm2d)]\n",
        "    # iterate through conv layers\n",
        "    for i_conv in range(len(all_convs) - 1):\n",
        "        # each channel sorting index, we need to apply it to:\n",
        "        # - the output dimension of the previous conv\n",
        "        # - the previous BN layer\n",
        "        # - the input dimension of the next conv (we compute importance here)\n",
        "        prev_conv = all_convs[i_conv]\n",
        "        prev_bn = all_bns[i_conv]\n",
        "        next_conv = all_convs[i_conv + 1]\n",
        "        # note that we always compute the importance according to input channels\n",
        "        importance = get_input_channel_importance(next_conv.weight)\n",
        "        # sorting from large to small\n",
        "        sort_idx = torch.argsort(importance, descending=True)\n",
        "\n",
        "        # apply to previous conv and its following bn\n",
        "        prev_conv.weight.copy_(torch.index_select(\n",
        "            prev_conv.weight.detach(), 0, sort_idx))\n",
        "        for tensor_name in ['weight', 'bias', 'running_mean', 'running_var']:\n",
        "            tensor_to_apply = getattr(prev_bn, tensor_name)\n",
        "            tensor_to_apply.copy_(\n",
        "                torch.index_select(tensor_to_apply.detach(), 0, sort_idx)\n",
        "            )\n",
        "\n",
        "        # apply to the next conv input (hint: one line of code)\n",
        "        ##################### YOUR CODE STARTS HERE #####################\n",
        "        next_conv.weight.copy_(torch.index_select(\n",
        "            next_conv.weight.detach(), 1, sort_idx))\n",
        "        ##################### YOUR CODE ENDS HERE #####################\n",
        "\n",
        "    return model"
      ]
    },
    {
      "cell_type": "markdown",
      "metadata": {
        "id": "-fo60_ni-T21"
      },
      "source": [
        "Now run the following cell to sanity check if the results are correct."
      ]
    },
    {
      "cell_type": "code",
      "execution_count": null,
      "metadata": {
        "colab": {
          "background_save": true
        },
        "id": "D_oR3Qxd-TOj"
      },
      "outputs": [],
      "source": [
        "print('Before sorting...')\n",
        "dense_model_accuracy = model.evaluate(dataloader['test'])\n",
        "print(f\"dense model has accuracy={dense_model_accuracy:.2f}%\")\n",
        "\n",
        "print('After sorting...')\n",
        "sorted_model = apply_channel_sorting(model)\n",
        "sorted_model_accuracy = model.evaluate(dataloader['test'])\n",
        "print(f\"sorted model has accuracy={sorted_model_accuracy:.2f}%\")\n",
        "\n",
        "# make sure accuracy does not change after sorting, since it is\n",
        "# equivalent transform\n",
        "assert abs(sorted_model_accuracy - dense_model_accuracy) < 0.1\n",
        "print('* Check passed.')"
      ]
    },
    {
      "cell_type": "markdown",
      "metadata": {
        "id": "aLdnjTU4-m4O"
      },
      "source": [
        "Finally, we compare the pruned models' accuracy with and without sorting."
      ]
    },
    {
      "cell_type": "code",
      "execution_count": null,
      "metadata": {
        "colab": {
          "background_save": true
        },
        "id": "79SoFETm3Cmz"
      },
      "outputs": [],
      "source": [
        "@torch.no_grad()\n",
        "def prune(model: Module, prune_ratio: Union[List, float]) -> Module:\n",
        "    \"\"\"Apply channel pruning to each of the conv layer in the backbone\n",
        "    Note that for prune_ratio, we can either provide a floating-point number,\n",
        "    indicating that we use a uniform pruning rate for all layers, or a list of\n",
        "    numbers to indicate per-layer pruning rate.\n",
        "    \"\"\"\n",
        "    # sanity check of provided prune_ratio\n",
        "    assert isinstance(prune_ratio, (float, list))\n",
        "    n_conv = len([m for m in model.backbone if isinstance(m, Conv2d)])\n",
        "    # note that for the ratios, it affects the previous conv output and next\n",
        "    # conv input, i.e., conv0 - ratio0 - conv1 - ratio1-...\n",
        "    if isinstance(prune_ratio, list):\n",
        "        assert len(prune_ratio) == n_conv - 1\n",
        "    else:\n",
        "        prune_ratio = [prune_ratio] * (n_conv - 1)\n",
        "\n",
        "    # we prune the convs in the backbone with a uniform ratio\n",
        "    model = copy.deepcopy(model)  # prevent overwrite\n",
        "    # we only apply pruning to the backbone features\n",
        "    all_convs = [m for m in model.backbone if isinstance(m, Conv2d)]\n",
        "    all_bns = [m for m in model.backbone if isinstance(m, BatchNorm2d)]\n",
        "    # apply pruning. we naively keep the first k channels\n",
        "    assert len(all_convs) == len(all_bns)\n",
        "\n",
        "    for i_ratio, p_ratio in enumerate(prune_ratio):\n",
        "        prev_conv = all_convs[i_ratio]\n",
        "        prev_bn = all_bns[i_ratio]\n",
        "        next_conv = all_convs[i_ratio + 1]\n",
        "        original_channels = prev_conv.out_channels  # same as next_conv.in_channels\n",
        "        n_keep = ChannelPruner.get_num_channels_to_keep(original_channels, p_ratio)\n",
        "\n",
        "        # prune the output of the previous conv and bn\n",
        "        prev_conv.weight.set_(prev_conv.weight.detach()[:n_keep])\n",
        "        prev_bn.weight.set_(prev_bn.weight.detach()[:n_keep])\n",
        "        prev_bn.bias.set_(prev_bn.bias.detach()[:n_keep])\n",
        "        prev_bn.running_mean.set_(prev_bn.running_mean.detach()[:n_keep])\n",
        "        prev_bn.running_var.set_(prev_bn.running_var.detach()[:n_keep])\n",
        "\n",
        "        # prune the input of the next conv (hint: just one line of code)\n",
        "        next_conv.weight.set_(next_conv.weight.detach()[:, :n_keep])\n",
        "\n",
        "    return model"
      ]
    },
    {
      "cell_type": "code",
      "execution_count": null,
      "metadata": {
        "colab": {
          "background_save": true
        },
        "id": "aVLm3dsh5cnC"
      },
      "outputs": [],
      "source": [
        "channel_pruning_ratio = 0.3  # pruned-out ratio\n",
        "\n",
        "print(\" * Without sorting...\")\n",
        "pruned_model = prune(model, channel_pruning_ratio)\n",
        "pruned_model_accuracy = model.evaluate(dataloader['test'])\n",
        "print(f\"pruned model has accuracy={pruned_model_accuracy:.2f}%\")\n",
        "\n",
        "\n",
        "print(\" * With sorting...\")\n",
        "sorted_model = apply_channel_sorting(model)\n",
        "pruned_model = prune(sorted_model, channel_pruning_ratio)\n",
        "pruned_model_accuracy = pruned_model.evaluate(dataloader['test'])\n",
        "print(f\"pruned model has accuracy={pruned_model_accuracy:.2f}%\")\n"
      ]
    },
    {
      "cell_type": "markdown",
      "metadata": {
        "id": "o_5HsoOcAOAJ"
      },
      "source": [
        "As you can see, the channel sorting can slightly improve the pruned model's accuracy, but there is still a huge degrade, which is quite common for channel pruning. But luckily, we can perform fine-tuning to recover the accuracy."
      ]
    },
    {
      "cell_type": "code",
      "execution_count": null,
      "metadata": {
        "colab": {
          "background_save": true
        },
        "id": "cXkGH-mAAIKc"
      },
      "outputs": [],
      "source": [
        "num_finetune_epochs = 5\n",
        "optimizer = torch.optim.SGD(pruned_model.parameters(), lr=0.01, momentum=0.9, weight_decay=1e-4)\n",
        "scheduler = torch.optim.lr_scheduler.CosineAnnealingLR(optimizer, num_finetune_epochs)\n",
        "criterion = nn.CrossEntropyLoss()\n",
        "\n",
        "best_accuracy = 0\n",
        "for epoch in range(num_finetune_epochs):\n",
        "    train(pruned_model, dataloader['train'], criterion, optimizer, scheduler)\n",
        "    accuracy = pruned_model.evaluate(dataloader['test'])\n",
        "    is_best = accuracy > best_accuracy\n",
        "    if is_best:\n",
        "        best_accuracy = accuracy\n",
        "    print(f'Epoch {epoch+1} Accuracy {accuracy:.2f}% / Best Accuracy: {best_accuracy:.2f}%')"
      ]
    },
    {
      "cell_type": "markdown",
      "metadata": {
        "id": "G8L4ICpzN6pS"
      },
      "source": [
        "## Measure acceleration from pruning\n",
        "\n",
        "After fine-tuning, the model almost recovers the accuracy. You may have already learned that channel pruning is usually more difficult to recover accuracy compared to fine-grained pruning. However, it directly leads to a smaller model size and smaller computation without specialized model format. It can also run faster on GPUs. Now we compare the model size, computation, and latency of the pruned model."
      ]
    },
    {
      "cell_type": "code",
      "execution_count": null,
      "metadata": {
        "colab": {
          "background_save": true
        },
        "id": "upGF6k0Z4gyO"
      },
      "outputs": [],
      "source": [
        "import time"
      ]
    },
    {
      "cell_type": "code",
      "execution_count": null,
      "metadata": {
        "colab": {
          "background_save": true
        },
        "id": "TF8lXvyeIpTk"
      },
      "outputs": [],
      "source": [
        "# helper functions to measure latency of a regular PyTorch models.\n",
        "#   Unlike fine-grained pruning, channel pruning\n",
        "#   can directly leads to model size reduction and speed up.\n",
        "# @torch.no_grad()\n",
        "# def measure_latency(model, dummy_input, n_warmup=20, n_test=100):\n",
        "#     model.eval()\n",
        "#     # warmup\n",
        "#     for _ in range(n_warmup):\n",
        "#         _ = model(dummy_input)\n",
        "#     # real test\n",
        "#     t1 = time.time()\n",
        "#     for _ in range(n_test):\n",
        "#         _ = model(dummy_input)\n",
        "#     t2 = time.time()\n",
        "#     return (t2 - t1) / n_test  # average latency\n",
        "\n",
        "table_template = \"{:<15} {:<15} {:<15} {:<15}\"\n",
        "print (table_template.format('', 'Original','Pruned','Reduction Ratio'))\n",
        "\n",
        "# 1. measure the latency of the original model and the pruned model on CPU\n",
        "#   which simulates inference on an edge device\n",
        "dummy_input = torch.randn(1, 3, 32, 32).to('cpu')\n",
        "pruned_model = pruned_model.to('cpu')\n",
        "model = model.to('cpu')\n",
        "\n",
        "pruned_latency = metric.measure_latency(pruned_model, dummy_input)\n",
        "original_latency = metric.measure_latency(model, dummy_input)\n",
        "print(table_template.format('Latency (ms)',\n",
        "                            round(original_latency * 1000, 1),\n",
        "                            round(pruned_latency * 1000, 1),\n",
        "                            round(original_latency / pruned_latency, 1)))\n",
        "\n",
        "# 2. measure the computation (MACs)\n",
        "original_macs = utils.get_model_macs(model, dummy_input)\n",
        "pruned_macs = utils.get_model_macs(pruned_model, dummy_input)\n",
        "print(table_template.format('MACs (M)',\n",
        "                            round(original_macs / 1e6),\n",
        "                            round(pruned_macs / 1e6),\n",
        "                            round(original_macs / pruned_macs, 1)))\n",
        "\n",
        "# 3. measure the model size (params)\n",
        "original_param = utils.get_num_parameters(model)\n",
        "pruned_param = utils.get_num_parameters(pruned_model)\n",
        "print(table_template.format('Param (M)',\n",
        "                            round(original_param / 1e6, 2),\n",
        "                            round(pruned_param / 1e6, 2),\n",
        "                            round(original_param / pruned_param, 1)))\n",
        "\n",
        "# 4. measure the model size (MiB)\n",
        "original_size = utils.get_model_size(model)\n",
        "pruned_size = utils.get_model_size(pruned_model)\n",
        "print(table_template.format('Size (MiB)',\n",
        "                            round(original_size / 1e6, 2),\n",
        "                            round(pruned_size / 1e6, 2),\n",
        "                            round(original_size / pruned_size, 1)))\n",
        "\n",
        "# put model back to cuda\n",
        "pruned_model = pruned_model.to('cuda')\n",
        "model = model.to('cuda')"
      ]
    },
    {
      "cell_type": "markdown",
      "metadata": {
        "id": "TDpOt1WCABWy"
      },
      "source": [
        "### Question 8 (10 pts)\n",
        "\n",
        "Please answer the following questions using the information in the previous code cell.\n"
      ]
    },
    {
      "cell_type": "markdown",
      "metadata": {
        "id": "EZAkttHyZXo1"
      },
      "source": [
        "#### Question 8.1 (5 pts)\n",
        "\n",
        "Explain why removing 30% of channels roughly leads to 50% computation reduction."
      ]
    },
    {
      "cell_type": "markdown",
      "metadata": {
        "id": "qHaBDss2ZYEd"
      },
      "source": [
        "**Your Answer:**"
      ]
    },
    {
      "cell_type": "markdown",
      "metadata": {
        "id": "fqpqToMYZZkX"
      },
      "source": [
        "#### Question 8.2 (5 pts)\n",
        "\n",
        "Explain why the latency reduction ratio is slightly smaller than computation reduction."
      ]
    },
    {
      "cell_type": "markdown",
      "metadata": {
        "id": "UhGuKP9oZa15"
      },
      "source": [
        "**Your Answer:**"
      ]
    },
    {
      "cell_type": "markdown",
      "metadata": {
        "id": "5gGwXyU44pvg"
      },
      "source": [
        "# Compare Fine-grained Pruning and Channel Pruning\n"
      ]
    },
    {
      "cell_type": "markdown",
      "metadata": {
        "id": "x_onehCuZc91"
      },
      "source": [
        "## Question 9 (10 pts)\n",
        "\n",
        "\n",
        "After all experiments in this lab, you may have become familiar with both fine-grained pruning and channel pruning.\n",
        "\n",
        "Please answer the following questions using what you have learned from the lectures and this lab."
      ]
    },
    {
      "cell_type": "markdown",
      "metadata": {
        "id": "bygFUTmRZeQm"
      },
      "source": [
        "### Question 9.1 (5 pts)\n",
        "\n",
        "What are the advantages and disadvantages of fine-grained pruning and channel pruning? You can discuss from the perspective of compression ratio, accuracy, latency, hardware support (*i.e.*, requiring specialized hardware accelerator), etc."
      ]
    },
    {
      "cell_type": "markdown",
      "metadata": {
        "id": "bkCGH6dVZfuU"
      },
      "source": [
        "**Your Answer:**"
      ]
    },
    {
      "cell_type": "markdown",
      "metadata": {
        "id": "VPzfEqAyZhEm"
      },
      "source": [
        "### Question 9.2 (5 pts)\n",
        "\n",
        "If you want to make your model run faster on a smartphone, which pruning method will you use? Why?"
      ]
    },
    {
      "cell_type": "markdown",
      "metadata": {
        "id": "BydLPTgCZihp"
      },
      "source": [
        "**Your Answer:**"
      ]
    },
    {
      "cell_type": "markdown",
      "metadata": {
        "id": "FMIwb-xJROOQ"
      },
      "source": [
        "# Feedback\n",
        "\n",
        "Please fill out this [feedback form](https://docs.google.com/forms/d/e/1FAIpQLSeM7P6OU0gzcgLpQCSh-UvDIKO1hvbuk291nLLG-x-R2FPBSQ/viewform?vc=0&c=0&w=1&flr=0&usp=mail_form_link) when you finished this lab. We would love to hear your thoughts or feedback on how we can improve this lab!"
      ]
    }
  ],
  "metadata": {
    "accelerator": "GPU",
    "colab": {
      "provenance": [],
      "include_colab_link": true
    },
    "gpuClass": "standard",
    "kernelspec": {
      "display_name": "Python 3",
      "name": "python3"
    },
    "language_info": {
      "name": "python"
    },
    "widgets": {
      "application/vnd.jupyter.widget-state+json": {
        "093154641e384efc9f2c74e2e63d7bf2": {
          "model_module": "@jupyter-widgets/controls",
          "model_module_version": "1.5.0",
          "model_name": "FloatProgressModel",
          "state": {
            "_dom_classes": [],
            "_model_module": "@jupyter-widgets/controls",
            "_model_module_version": "1.5.0",
            "_model_name": "FloatProgressModel",
            "_view_count": null,
            "_view_module": "@jupyter-widgets/controls",
            "_view_module_version": "1.5.0",
            "_view_name": "ProgressView",
            "bar_style": "success",
            "description": "",
            "description_tooltip": null,
            "layout": "IPY_MODEL_5544ec7e2fb54c58b1c1c16a87f94e10",
            "max": 6,
            "min": 0,
            "orientation": "horizontal",
            "style": "IPY_MODEL_9a0aa8a23d3949d9850d015c39211c6f",
            "value": 6
          }
        },
        "0ab7f80cca374272925bf5dabf98d2ba": {
          "model_module": "@jupyter-widgets/base",
          "model_module_version": "1.2.0",
          "model_name": "LayoutModel",
          "state": {
            "_model_module": "@jupyter-widgets/base",
            "_model_module_version": "1.2.0",
            "_model_name": "LayoutModel",
            "_view_count": null,
            "_view_module": "@jupyter-widgets/base",
            "_view_module_version": "1.2.0",
            "_view_name": "LayoutView",
            "align_content": null,
            "align_items": null,
            "align_self": null,
            "border": null,
            "bottom": null,
            "display": null,
            "flex": null,
            "flex_flow": null,
            "grid_area": null,
            "grid_auto_columns": null,
            "grid_auto_flow": null,
            "grid_auto_rows": null,
            "grid_column": null,
            "grid_gap": null,
            "grid_row": null,
            "grid_template_areas": null,
            "grid_template_columns": null,
            "grid_template_rows": null,
            "height": null,
            "justify_content": null,
            "justify_items": null,
            "left": null,
            "margin": null,
            "max_height": null,
            "max_width": null,
            "min_height": null,
            "min_width": null,
            "object_fit": null,
            "object_position": null,
            "order": null,
            "overflow": null,
            "overflow_x": null,
            "overflow_y": null,
            "padding": null,
            "right": null,
            "top": null,
            "visibility": null,
            "width": null
          }
        },
        "0e6c5516ff6a47868919d6289b30715d": {
          "model_module": "@jupyter-widgets/base",
          "model_module_version": "1.2.0",
          "model_name": "LayoutModel",
          "state": {
            "_model_module": "@jupyter-widgets/base",
            "_model_module_version": "1.2.0",
            "_model_name": "LayoutModel",
            "_view_count": null,
            "_view_module": "@jupyter-widgets/base",
            "_view_module_version": "1.2.0",
            "_view_name": "LayoutView",
            "align_content": null,
            "align_items": null,
            "align_self": null,
            "border": null,
            "bottom": null,
            "display": null,
            "flex": null,
            "flex_flow": null,
            "grid_area": null,
            "grid_auto_columns": null,
            "grid_auto_flow": null,
            "grid_auto_rows": null,
            "grid_column": null,
            "grid_gap": null,
            "grid_row": null,
            "grid_template_areas": null,
            "grid_template_columns": null,
            "grid_template_rows": null,
            "height": null,
            "justify_content": null,
            "justify_items": null,
            "left": null,
            "margin": null,
            "max_height": null,
            "max_width": null,
            "min_height": null,
            "min_width": null,
            "object_fit": null,
            "object_position": null,
            "order": null,
            "overflow": null,
            "overflow_x": null,
            "overflow_y": null,
            "padding": null,
            "right": null,
            "top": null,
            "visibility": null,
            "width": null
          }
        },
        "13715babb5f041898b44b6d328f90878": {
          "model_module": "@jupyter-widgets/base",
          "model_module_version": "1.2.0",
          "model_name": "LayoutModel",
          "state": {
            "_model_module": "@jupyter-widgets/base",
            "_model_module_version": "1.2.0",
            "_model_name": "LayoutModel",
            "_view_count": null,
            "_view_module": "@jupyter-widgets/base",
            "_view_module_version": "1.2.0",
            "_view_name": "LayoutView",
            "align_content": null,
            "align_items": null,
            "align_self": null,
            "border": null,
            "bottom": null,
            "display": null,
            "flex": null,
            "flex_flow": null,
            "grid_area": null,
            "grid_auto_columns": null,
            "grid_auto_flow": null,
            "grid_auto_rows": null,
            "grid_column": null,
            "grid_gap": null,
            "grid_row": null,
            "grid_template_areas": null,
            "grid_template_columns": null,
            "grid_template_rows": null,
            "height": null,
            "justify_content": null,
            "justify_items": null,
            "left": null,
            "margin": null,
            "max_height": null,
            "max_width": null,
            "min_height": null,
            "min_width": null,
            "object_fit": null,
            "object_position": null,
            "order": null,
            "overflow": null,
            "overflow_x": null,
            "overflow_y": null,
            "padding": null,
            "right": null,
            "top": null,
            "visibility": null,
            "width": null
          }
        },
        "180b85a705544e0fa9f9ffafe5cae36d": {
          "model_module": "@jupyter-widgets/base",
          "model_module_version": "1.2.0",
          "model_name": "LayoutModel",
          "state": {
            "_model_module": "@jupyter-widgets/base",
            "_model_module_version": "1.2.0",
            "_model_name": "LayoutModel",
            "_view_count": null,
            "_view_module": "@jupyter-widgets/base",
            "_view_module_version": "1.2.0",
            "_view_name": "LayoutView",
            "align_content": null,
            "align_items": null,
            "align_self": null,
            "border": null,
            "bottom": null,
            "display": null,
            "flex": null,
            "flex_flow": null,
            "grid_area": null,
            "grid_auto_columns": null,
            "grid_auto_flow": null,
            "grid_auto_rows": null,
            "grid_column": null,
            "grid_gap": null,
            "grid_row": null,
            "grid_template_areas": null,
            "grid_template_columns": null,
            "grid_template_rows": null,
            "height": null,
            "justify_content": null,
            "justify_items": null,
            "left": null,
            "margin": null,
            "max_height": null,
            "max_width": null,
            "min_height": null,
            "min_width": null,
            "object_fit": null,
            "object_position": null,
            "order": null,
            "overflow": null,
            "overflow_x": null,
            "overflow_y": null,
            "padding": null,
            "right": null,
            "top": null,
            "visibility": null,
            "width": null
          }
        },
        "1e35b4a326d9474da47e9545f7613387": {
          "model_module": "@jupyter-widgets/base",
          "model_module_version": "1.2.0",
          "model_name": "LayoutModel",
          "state": {
            "_model_module": "@jupyter-widgets/base",
            "_model_module_version": "1.2.0",
            "_model_name": "LayoutModel",
            "_view_count": null,
            "_view_module": "@jupyter-widgets/base",
            "_view_module_version": "1.2.0",
            "_view_name": "LayoutView",
            "align_content": null,
            "align_items": null,
            "align_self": null,
            "border": null,
            "bottom": null,
            "display": null,
            "flex": null,
            "flex_flow": null,
            "grid_area": null,
            "grid_auto_columns": null,
            "grid_auto_flow": null,
            "grid_auto_rows": null,
            "grid_column": null,
            "grid_gap": null,
            "grid_row": null,
            "grid_template_areas": null,
            "grid_template_columns": null,
            "grid_template_rows": null,
            "height": null,
            "justify_content": null,
            "justify_items": null,
            "left": null,
            "margin": null,
            "max_height": null,
            "max_width": null,
            "min_height": null,
            "min_width": null,
            "object_fit": null,
            "object_position": null,
            "order": null,
            "overflow": null,
            "overflow_x": null,
            "overflow_y": null,
            "padding": null,
            "right": null,
            "top": null,
            "visibility": null,
            "width": null
          }
        },
        "1f297cb7f8d145a09cc6b0f645882e7d": {
          "model_module": "@jupyter-widgets/controls",
          "model_module_version": "1.5.0",
          "model_name": "HBoxModel",
          "state": {
            "_dom_classes": [],
            "_model_module": "@jupyter-widgets/controls",
            "_model_module_version": "1.5.0",
            "_model_name": "HBoxModel",
            "_view_count": null,
            "_view_module": "@jupyter-widgets/controls",
            "_view_module_version": "1.5.0",
            "_view_name": "HBoxView",
            "box_style": "",
            "children": [
              "IPY_MODEL_e32d433856404053b85d302ede16b532",
              "IPY_MODEL_8fc11745a55644ff99ea6d7481f9c487",
              "IPY_MODEL_819c696a518d479184ee9fb28ff2254e"
            ],
            "layout": "IPY_MODEL_180b85a705544e0fa9f9ffafe5cae36d"
          }
        },
        "20b561915e37462081187443f668966f": {
          "model_module": "@jupyter-widgets/controls",
          "model_module_version": "1.5.0",
          "model_name": "HTMLModel",
          "state": {
            "_dom_classes": [],
            "_model_module": "@jupyter-widgets/controls",
            "_model_module_version": "1.5.0",
            "_model_name": "HTMLModel",
            "_view_count": null,
            "_view_module": "@jupyter-widgets/controls",
            "_view_module_version": "1.5.0",
            "_view_name": "HTMLView",
            "description": "",
            "description_tooltip": null,
            "layout": "IPY_MODEL_95420f4eb9694fc384cdc6e091e23c46",
            "placeholder": "​",
            "style": "IPY_MODEL_8d52649689e8481785b0b0d11a641ae8",
            "value": "scanning 7/9 weight - backbone.conv6.weight:  50%"
          }
        },
        "2432662a90584156ad3fb3d28c5a8737": {
          "model_module": "@jupyter-widgets/controls",
          "model_module_version": "1.5.0",
          "model_name": "HTMLModel",
          "state": {
            "_dom_classes": [],
            "_model_module": "@jupyter-widgets/controls",
            "_model_module_version": "1.5.0",
            "_model_name": "HTMLModel",
            "_view_count": null,
            "_view_module": "@jupyter-widgets/controls",
            "_view_module_version": "1.5.0",
            "_view_name": "HTMLView",
            "description": "",
            "description_tooltip": null,
            "layout": "IPY_MODEL_0e6c5516ff6a47868919d6289b30715d",
            "placeholder": "​",
            "style": "IPY_MODEL_35ec408a00f740ac9101e64b60553dae",
            "value": "eval: 100%"
          }
        },
        "29bcb2641a9740d7ba9aec305b53a57d": {
          "model_module": "@jupyter-widgets/base",
          "model_module_version": "1.2.0",
          "model_name": "LayoutModel",
          "state": {
            "_model_module": "@jupyter-widgets/base",
            "_model_module_version": "1.2.0",
            "_model_name": "LayoutModel",
            "_view_count": null,
            "_view_module": "@jupyter-widgets/base",
            "_view_module_version": "1.2.0",
            "_view_name": "LayoutView",
            "align_content": null,
            "align_items": null,
            "align_self": null,
            "border": null,
            "bottom": null,
            "display": null,
            "flex": null,
            "flex_flow": null,
            "grid_area": null,
            "grid_auto_columns": null,
            "grid_auto_flow": null,
            "grid_auto_rows": null,
            "grid_column": null,
            "grid_gap": null,
            "grid_row": null,
            "grid_template_areas": null,
            "grid_template_columns": null,
            "grid_template_rows": null,
            "height": null,
            "justify_content": null,
            "justify_items": null,
            "left": null,
            "margin": null,
            "max_height": null,
            "max_width": null,
            "min_height": null,
            "min_width": null,
            "object_fit": null,
            "object_position": null,
            "order": null,
            "overflow": null,
            "overflow_x": null,
            "overflow_y": null,
            "padding": null,
            "right": null,
            "top": null,
            "visibility": null,
            "width": null
          }
        },
        "2bb650577eef4e78bda3be996f379e13": {
          "model_module": "@jupyter-widgets/controls",
          "model_module_version": "1.5.0",
          "model_name": "ProgressStyleModel",
          "state": {
            "_model_module": "@jupyter-widgets/controls",
            "_model_module_version": "1.5.0",
            "_model_name": "ProgressStyleModel",
            "_view_count": null,
            "_view_module": "@jupyter-widgets/base",
            "_view_module_version": "1.2.0",
            "_view_name": "StyleView",
            "bar_color": null,
            "description_width": ""
          }
        },
        "2c83683d2aea4f3e9a23ff8b18cee515": {
          "model_module": "@jupyter-widgets/base",
          "model_module_version": "1.2.0",
          "model_name": "LayoutModel",
          "state": {
            "_model_module": "@jupyter-widgets/base",
            "_model_module_version": "1.2.0",
            "_model_name": "LayoutModel",
            "_view_count": null,
            "_view_module": "@jupyter-widgets/base",
            "_view_module_version": "1.2.0",
            "_view_name": "LayoutView",
            "align_content": null,
            "align_items": null,
            "align_self": null,
            "border": null,
            "bottom": null,
            "display": null,
            "flex": null,
            "flex_flow": null,
            "grid_area": null,
            "grid_auto_columns": null,
            "grid_auto_flow": null,
            "grid_auto_rows": null,
            "grid_column": null,
            "grid_gap": null,
            "grid_row": null,
            "grid_template_areas": null,
            "grid_template_columns": null,
            "grid_template_rows": null,
            "height": null,
            "justify_content": null,
            "justify_items": null,
            "left": null,
            "margin": null,
            "max_height": null,
            "max_width": null,
            "min_height": null,
            "min_width": null,
            "object_fit": null,
            "object_position": null,
            "order": null,
            "overflow": null,
            "overflow_x": null,
            "overflow_y": null,
            "padding": null,
            "right": null,
            "top": null,
            "visibility": null,
            "width": null
          }
        },
        "2ca8e91c97a14f8e8fed0c7ed4f7c3ed": {
          "model_module": "@jupyter-widgets/controls",
          "model_module_version": "1.5.0",
          "model_name": "DescriptionStyleModel",
          "state": {
            "_model_module": "@jupyter-widgets/controls",
            "_model_module_version": "1.5.0",
            "_model_name": "DescriptionStyleModel",
            "_view_count": null,
            "_view_module": "@jupyter-widgets/base",
            "_view_module_version": "1.2.0",
            "_view_name": "StyleView",
            "description_width": ""
          }
        },
        "302997e1f624480788f52bb33986f142": {
          "model_module": "@jupyter-widgets/controls",
          "model_module_version": "1.5.0",
          "model_name": "HTMLModel",
          "state": {
            "_dom_classes": [],
            "_model_module": "@jupyter-widgets/controls",
            "_model_module_version": "1.5.0",
            "_model_name": "HTMLModel",
            "_view_count": null,
            "_view_module": "@jupyter-widgets/controls",
            "_view_module_version": "1.5.0",
            "_view_name": "HTMLView",
            "description": "",
            "description_tooltip": null,
            "layout": "IPY_MODEL_6544a39108e642a6a5645b9850bec8d7",
            "placeholder": "​",
            "style": "IPY_MODEL_41eac47478ad451385e074797ca3cdee",
            "value": "scanning 5/9 weight - backbone.conv4.weight: 100%"
          }
        },
        "3226b5a355ca4e72bb8bf36ef8052cdb": {
          "model_module": "@jupyter-widgets/controls",
          "model_module_version": "1.5.0",
          "model_name": "HBoxModel",
          "state": {
            "_dom_classes": [],
            "_model_module": "@jupyter-widgets/controls",
            "_model_module_version": "1.5.0",
            "_model_name": "HBoxModel",
            "_view_count": null,
            "_view_module": "@jupyter-widgets/controls",
            "_view_module_version": "1.5.0",
            "_view_name": "HBoxView",
            "box_style": "",
            "children": [
              "IPY_MODEL_302997e1f624480788f52bb33986f142",
              "IPY_MODEL_093154641e384efc9f2c74e2e63d7bf2",
              "IPY_MODEL_f0f44f517f9f454fae997b1b23122c13"
            ],
            "layout": "IPY_MODEL_b547cd6093664bde94f2626e26d17673"
          }
        },
        "35ec408a00f740ac9101e64b60553dae": {
          "model_module": "@jupyter-widgets/controls",
          "model_module_version": "1.5.0",
          "model_name": "DescriptionStyleModel",
          "state": {
            "_model_module": "@jupyter-widgets/controls",
            "_model_module_version": "1.5.0",
            "_model_name": "DescriptionStyleModel",
            "_view_count": null,
            "_view_module": "@jupyter-widgets/base",
            "_view_module_version": "1.2.0",
            "_view_name": "StyleView",
            "description_width": ""
          }
        },
        "378df28070df4d20a53008c7bd4b0fca": {
          "model_module": "@jupyter-widgets/controls",
          "model_module_version": "1.5.0",
          "model_name": "ProgressStyleModel",
          "state": {
            "_model_module": "@jupyter-widgets/controls",
            "_model_module_version": "1.5.0",
            "_model_name": "ProgressStyleModel",
            "_view_count": null,
            "_view_module": "@jupyter-widgets/base",
            "_view_module_version": "1.2.0",
            "_view_name": "StyleView",
            "bar_color": null,
            "description_width": ""
          }
        },
        "37c539f5b4924ca991b8fd5e4fc2b9c5": {
          "model_module": "@jupyter-widgets/base",
          "model_module_version": "1.2.0",
          "model_name": "LayoutModel",
          "state": {
            "_model_module": "@jupyter-widgets/base",
            "_model_module_version": "1.2.0",
            "_model_name": "LayoutModel",
            "_view_count": null,
            "_view_module": "@jupyter-widgets/base",
            "_view_module_version": "1.2.0",
            "_view_name": "LayoutView",
            "align_content": null,
            "align_items": null,
            "align_self": null,
            "border": null,
            "bottom": null,
            "display": null,
            "flex": null,
            "flex_flow": null,
            "grid_area": null,
            "grid_auto_columns": null,
            "grid_auto_flow": null,
            "grid_auto_rows": null,
            "grid_column": null,
            "grid_gap": null,
            "grid_row": null,
            "grid_template_areas": null,
            "grid_template_columns": null,
            "grid_template_rows": null,
            "height": null,
            "justify_content": null,
            "justify_items": null,
            "left": null,
            "margin": null,
            "max_height": null,
            "max_width": null,
            "min_height": null,
            "min_width": null,
            "object_fit": null,
            "object_position": null,
            "order": null,
            "overflow": null,
            "overflow_x": null,
            "overflow_y": null,
            "padding": null,
            "right": null,
            "top": null,
            "visibility": null,
            "width": null
          }
        },
        "38fb3e840db84861afb68580636e8114": {
          "model_module": "@jupyter-widgets/base",
          "model_module_version": "1.2.0",
          "model_name": "LayoutModel",
          "state": {
            "_model_module": "@jupyter-widgets/base",
            "_model_module_version": "1.2.0",
            "_model_name": "LayoutModel",
            "_view_count": null,
            "_view_module": "@jupyter-widgets/base",
            "_view_module_version": "1.2.0",
            "_view_name": "LayoutView",
            "align_content": null,
            "align_items": null,
            "align_self": null,
            "border": null,
            "bottom": null,
            "display": null,
            "flex": null,
            "flex_flow": null,
            "grid_area": null,
            "grid_auto_columns": null,
            "grid_auto_flow": null,
            "grid_auto_rows": null,
            "grid_column": null,
            "grid_gap": null,
            "grid_row": null,
            "grid_template_areas": null,
            "grid_template_columns": null,
            "grid_template_rows": null,
            "height": null,
            "justify_content": null,
            "justify_items": null,
            "left": null,
            "margin": null,
            "max_height": null,
            "max_width": null,
            "min_height": null,
            "min_width": null,
            "object_fit": null,
            "object_position": null,
            "order": null,
            "overflow": null,
            "overflow_x": null,
            "overflow_y": null,
            "padding": null,
            "right": null,
            "top": null,
            "visibility": null,
            "width": null
          }
        },
        "3c6c0bafcedd4b518435dd801df0ba5b": {
          "model_module": "@jupyter-widgets/controls",
          "model_module_version": "1.5.0",
          "model_name": "HBoxModel",
          "state": {
            "_dom_classes": [],
            "_model_module": "@jupyter-widgets/controls",
            "_model_module_version": "1.5.0",
            "_model_name": "HBoxModel",
            "_view_count": null,
            "_view_module": "@jupyter-widgets/controls",
            "_view_module_version": "1.5.0",
            "_view_name": "HBoxView",
            "box_style": "",
            "children": [
              "IPY_MODEL_5147d1523eb9488fb6e0d1f1b0117b96",
              "IPY_MODEL_8ebef3298d164c23a8bd2ab324f62bf5",
              "IPY_MODEL_3f4be556f57b4226bfc8eba4c7d42827"
            ],
            "layout": "IPY_MODEL_38fb3e840db84861afb68580636e8114"
          }
        },
        "3f4be556f57b4226bfc8eba4c7d42827": {
          "model_module": "@jupyter-widgets/controls",
          "model_module_version": "1.5.0",
          "model_name": "HTMLModel",
          "state": {
            "_dom_classes": [],
            "_model_module": "@jupyter-widgets/controls",
            "_model_module_version": "1.5.0",
            "_model_name": "HTMLModel",
            "_view_count": null,
            "_view_module": "@jupyter-widgets/controls",
            "_view_module_version": "1.5.0",
            "_view_name": "HTMLView",
            "description": "",
            "description_tooltip": null,
            "layout": "IPY_MODEL_b3ebd3b206914b3f9f8ef7b086fc1322",
            "placeholder": "​",
            "style": "IPY_MODEL_ce85f450487f4faf8f3475d80f06882b",
            "value": " 6/6 [16:24&lt;00:00, 164.20s/it]"
          }
        },
        "41eac47478ad451385e074797ca3cdee": {
          "model_module": "@jupyter-widgets/controls",
          "model_module_version": "1.5.0",
          "model_name": "DescriptionStyleModel",
          "state": {
            "_model_module": "@jupyter-widgets/controls",
            "_model_module_version": "1.5.0",
            "_model_name": "DescriptionStyleModel",
            "_view_count": null,
            "_view_module": "@jupyter-widgets/base",
            "_view_module_version": "1.2.0",
            "_view_name": "StyleView",
            "description_width": ""
          }
        },
        "48a9f312b5f24bd580071afac09edc75": {
          "model_module": "@jupyter-widgets/base",
          "model_module_version": "1.2.0",
          "model_name": "LayoutModel",
          "state": {
            "_model_module": "@jupyter-widgets/base",
            "_model_module_version": "1.2.0",
            "_model_name": "LayoutModel",
            "_view_count": null,
            "_view_module": "@jupyter-widgets/base",
            "_view_module_version": "1.2.0",
            "_view_name": "LayoutView",
            "align_content": null,
            "align_items": null,
            "align_self": null,
            "border": null,
            "bottom": null,
            "display": null,
            "flex": null,
            "flex_flow": null,
            "grid_area": null,
            "grid_auto_columns": null,
            "grid_auto_flow": null,
            "grid_auto_rows": null,
            "grid_column": null,
            "grid_gap": null,
            "grid_row": null,
            "grid_template_areas": null,
            "grid_template_columns": null,
            "grid_template_rows": null,
            "height": null,
            "justify_content": null,
            "justify_items": null,
            "left": null,
            "margin": null,
            "max_height": null,
            "max_width": null,
            "min_height": null,
            "min_width": null,
            "object_fit": null,
            "object_position": null,
            "order": null,
            "overflow": null,
            "overflow_x": null,
            "overflow_y": null,
            "padding": null,
            "right": null,
            "top": null,
            "visibility": null,
            "width": null
          }
        },
        "4b5d5caa42324e97b6fb49cd30e0e83f": {
          "model_module": "@jupyter-widgets/base",
          "model_module_version": "1.2.0",
          "model_name": "LayoutModel",
          "state": {
            "_model_module": "@jupyter-widgets/base",
            "_model_module_version": "1.2.0",
            "_model_name": "LayoutModel",
            "_view_count": null,
            "_view_module": "@jupyter-widgets/base",
            "_view_module_version": "1.2.0",
            "_view_name": "LayoutView",
            "align_content": null,
            "align_items": null,
            "align_self": null,
            "border": null,
            "bottom": null,
            "display": null,
            "flex": null,
            "flex_flow": null,
            "grid_area": null,
            "grid_auto_columns": null,
            "grid_auto_flow": null,
            "grid_auto_rows": null,
            "grid_column": null,
            "grid_gap": null,
            "grid_row": null,
            "grid_template_areas": null,
            "grid_template_columns": null,
            "grid_template_rows": null,
            "height": null,
            "justify_content": null,
            "justify_items": null,
            "left": null,
            "margin": null,
            "max_height": null,
            "max_width": null,
            "min_height": null,
            "min_width": null,
            "object_fit": null,
            "object_position": null,
            "order": null,
            "overflow": null,
            "overflow_x": null,
            "overflow_y": null,
            "padding": null,
            "right": null,
            "top": null,
            "visibility": null,
            "width": null
          }
        },
        "4ca22813055f42818acd36ab1300edc0": {
          "model_module": "@jupyter-widgets/base",
          "model_module_version": "1.2.0",
          "model_name": "LayoutModel",
          "state": {
            "_model_module": "@jupyter-widgets/base",
            "_model_module_version": "1.2.0",
            "_model_name": "LayoutModel",
            "_view_count": null,
            "_view_module": "@jupyter-widgets/base",
            "_view_module_version": "1.2.0",
            "_view_name": "LayoutView",
            "align_content": null,
            "align_items": null,
            "align_self": null,
            "border": null,
            "bottom": null,
            "display": null,
            "flex": null,
            "flex_flow": null,
            "grid_area": null,
            "grid_auto_columns": null,
            "grid_auto_flow": null,
            "grid_auto_rows": null,
            "grid_column": null,
            "grid_gap": null,
            "grid_row": null,
            "grid_template_areas": null,
            "grid_template_columns": null,
            "grid_template_rows": null,
            "height": null,
            "justify_content": null,
            "justify_items": null,
            "left": null,
            "margin": null,
            "max_height": null,
            "max_width": null,
            "min_height": null,
            "min_width": null,
            "object_fit": null,
            "object_position": null,
            "order": null,
            "overflow": null,
            "overflow_x": null,
            "overflow_y": null,
            "padding": null,
            "right": null,
            "top": null,
            "visibility": null,
            "width": null
          }
        },
        "4e8cc06d6d1949799e574d31cad14c16": {
          "model_module": "@jupyter-widgets/controls",
          "model_module_version": "1.5.0",
          "model_name": "DescriptionStyleModel",
          "state": {
            "_model_module": "@jupyter-widgets/controls",
            "_model_module_version": "1.5.0",
            "_model_name": "DescriptionStyleModel",
            "_view_count": null,
            "_view_module": "@jupyter-widgets/base",
            "_view_module_version": "1.2.0",
            "_view_name": "StyleView",
            "description_width": ""
          }
        },
        "5147d1523eb9488fb6e0d1f1b0117b96": {
          "model_module": "@jupyter-widgets/controls",
          "model_module_version": "1.5.0",
          "model_name": "HTMLModel",
          "state": {
            "_dom_classes": [],
            "_model_module": "@jupyter-widgets/controls",
            "_model_module_version": "1.5.0",
            "_model_name": "HTMLModel",
            "_view_count": null,
            "_view_module": "@jupyter-widgets/controls",
            "_view_module_version": "1.5.0",
            "_view_name": "HTMLView",
            "description": "",
            "description_tooltip": null,
            "layout": "IPY_MODEL_8ec24ec3a68e4defb9ec271e265971e4",
            "placeholder": "​",
            "style": "IPY_MODEL_565c36e7d4c74bf3959653f91e4869be",
            "value": "scanning 4/9 weight - backbone.conv3.weight: 100%"
          }
        },
        "5544ec7e2fb54c58b1c1c16a87f94e10": {
          "model_module": "@jupyter-widgets/base",
          "model_module_version": "1.2.0",
          "model_name": "LayoutModel",
          "state": {
            "_model_module": "@jupyter-widgets/base",
            "_model_module_version": "1.2.0",
            "_model_name": "LayoutModel",
            "_view_count": null,
            "_view_module": "@jupyter-widgets/base",
            "_view_module_version": "1.2.0",
            "_view_name": "LayoutView",
            "align_content": null,
            "align_items": null,
            "align_self": null,
            "border": null,
            "bottom": null,
            "display": null,
            "flex": null,
            "flex_flow": null,
            "grid_area": null,
            "grid_auto_columns": null,
            "grid_auto_flow": null,
            "grid_auto_rows": null,
            "grid_column": null,
            "grid_gap": null,
            "grid_row": null,
            "grid_template_areas": null,
            "grid_template_columns": null,
            "grid_template_rows": null,
            "height": null,
            "justify_content": null,
            "justify_items": null,
            "left": null,
            "margin": null,
            "max_height": null,
            "max_width": null,
            "min_height": null,
            "min_width": null,
            "object_fit": null,
            "object_position": null,
            "order": null,
            "overflow": null,
            "overflow_x": null,
            "overflow_y": null,
            "padding": null,
            "right": null,
            "top": null,
            "visibility": null,
            "width": null
          }
        },
        "55ed4ab2fa52442ea8d69f0e504abe44": {
          "model_module": "@jupyter-widgets/base",
          "model_module_version": "1.2.0",
          "model_name": "LayoutModel",
          "state": {
            "_model_module": "@jupyter-widgets/base",
            "_model_module_version": "1.2.0",
            "_model_name": "LayoutModel",
            "_view_count": null,
            "_view_module": "@jupyter-widgets/base",
            "_view_module_version": "1.2.0",
            "_view_name": "LayoutView",
            "align_content": null,
            "align_items": null,
            "align_self": null,
            "border": null,
            "bottom": null,
            "display": null,
            "flex": null,
            "flex_flow": null,
            "grid_area": null,
            "grid_auto_columns": null,
            "grid_auto_flow": null,
            "grid_auto_rows": null,
            "grid_column": null,
            "grid_gap": null,
            "grid_row": null,
            "grid_template_areas": null,
            "grid_template_columns": null,
            "grid_template_rows": null,
            "height": null,
            "justify_content": null,
            "justify_items": null,
            "left": null,
            "margin": null,
            "max_height": null,
            "max_width": null,
            "min_height": null,
            "min_width": null,
            "object_fit": null,
            "object_position": null,
            "order": null,
            "overflow": null,
            "overflow_x": null,
            "overflow_y": null,
            "padding": null,
            "right": null,
            "top": null,
            "visibility": null,
            "width": null
          }
        },
        "55f3ee630eb14135928b962edefd7c01": {
          "model_module": "@jupyter-widgets/base",
          "model_module_version": "1.2.0",
          "model_name": "LayoutModel",
          "state": {
            "_model_module": "@jupyter-widgets/base",
            "_model_module_version": "1.2.0",
            "_model_name": "LayoutModel",
            "_view_count": null,
            "_view_module": "@jupyter-widgets/base",
            "_view_module_version": "1.2.0",
            "_view_name": "LayoutView",
            "align_content": null,
            "align_items": null,
            "align_self": null,
            "border": null,
            "bottom": null,
            "display": null,
            "flex": null,
            "flex_flow": null,
            "grid_area": null,
            "grid_auto_columns": null,
            "grid_auto_flow": null,
            "grid_auto_rows": null,
            "grid_column": null,
            "grid_gap": null,
            "grid_row": null,
            "grid_template_areas": null,
            "grid_template_columns": null,
            "grid_template_rows": null,
            "height": null,
            "justify_content": null,
            "justify_items": null,
            "left": null,
            "margin": null,
            "max_height": null,
            "max_width": null,
            "min_height": null,
            "min_width": null,
            "object_fit": null,
            "object_position": null,
            "order": null,
            "overflow": null,
            "overflow_x": null,
            "overflow_y": null,
            "padding": null,
            "right": null,
            "top": null,
            "visibility": null,
            "width": null
          }
        },
        "565c36e7d4c74bf3959653f91e4869be": {
          "model_module": "@jupyter-widgets/controls",
          "model_module_version": "1.5.0",
          "model_name": "DescriptionStyleModel",
          "state": {
            "_model_module": "@jupyter-widgets/controls",
            "_model_module_version": "1.5.0",
            "_model_name": "DescriptionStyleModel",
            "_view_count": null,
            "_view_module": "@jupyter-widgets/base",
            "_view_module_version": "1.2.0",
            "_view_name": "StyleView",
            "description_width": ""
          }
        },
        "5bf5204e2dd84717839fee1dbb62c432": {
          "model_module": "@jupyter-widgets/controls",
          "model_module_version": "1.5.0",
          "model_name": "DescriptionStyleModel",
          "state": {
            "_model_module": "@jupyter-widgets/controls",
            "_model_module_version": "1.5.0",
            "_model_name": "DescriptionStyleModel",
            "_view_count": null,
            "_view_module": "@jupyter-widgets/base",
            "_view_module_version": "1.2.0",
            "_view_name": "StyleView",
            "description_width": ""
          }
        },
        "612ebb4ab18a4dc2959c3b57782309f6": {
          "model_module": "@jupyter-widgets/base",
          "model_module_version": "1.2.0",
          "model_name": "LayoutModel",
          "state": {
            "_model_module": "@jupyter-widgets/base",
            "_model_module_version": "1.2.0",
            "_model_name": "LayoutModel",
            "_view_count": null,
            "_view_module": "@jupyter-widgets/base",
            "_view_module_version": "1.2.0",
            "_view_name": "LayoutView",
            "align_content": null,
            "align_items": null,
            "align_self": null,
            "border": null,
            "bottom": null,
            "display": null,
            "flex": null,
            "flex_flow": null,
            "grid_area": null,
            "grid_auto_columns": null,
            "grid_auto_flow": null,
            "grid_auto_rows": null,
            "grid_column": null,
            "grid_gap": null,
            "grid_row": null,
            "grid_template_areas": null,
            "grid_template_columns": null,
            "grid_template_rows": null,
            "height": null,
            "justify_content": null,
            "justify_items": null,
            "left": null,
            "margin": null,
            "max_height": null,
            "max_width": null,
            "min_height": null,
            "min_width": null,
            "object_fit": null,
            "object_position": null,
            "order": null,
            "overflow": null,
            "overflow_x": null,
            "overflow_y": null,
            "padding": null,
            "right": null,
            "top": null,
            "visibility": null,
            "width": null
          }
        },
        "63789707d3244b4586ce43a64a3824ea": {
          "model_module": "@jupyter-widgets/controls",
          "model_module_version": "1.5.0",
          "model_name": "DescriptionStyleModel",
          "state": {
            "_model_module": "@jupyter-widgets/controls",
            "_model_module_version": "1.5.0",
            "_model_name": "DescriptionStyleModel",
            "_view_count": null,
            "_view_module": "@jupyter-widgets/base",
            "_view_module_version": "1.2.0",
            "_view_name": "StyleView",
            "description_width": ""
          }
        },
        "6386d8eb49094e5d9ff5ca02c14d5b71": {
          "model_module": "@jupyter-widgets/controls",
          "model_module_version": "1.5.0",
          "model_name": "DescriptionStyleModel",
          "state": {
            "_model_module": "@jupyter-widgets/controls",
            "_model_module_version": "1.5.0",
            "_model_name": "DescriptionStyleModel",
            "_view_count": null,
            "_view_module": "@jupyter-widgets/base",
            "_view_module_version": "1.2.0",
            "_view_name": "StyleView",
            "description_width": ""
          }
        },
        "6544a39108e642a6a5645b9850bec8d7": {
          "model_module": "@jupyter-widgets/base",
          "model_module_version": "1.2.0",
          "model_name": "LayoutModel",
          "state": {
            "_model_module": "@jupyter-widgets/base",
            "_model_module_version": "1.2.0",
            "_model_name": "LayoutModel",
            "_view_count": null,
            "_view_module": "@jupyter-widgets/base",
            "_view_module_version": "1.2.0",
            "_view_name": "LayoutView",
            "align_content": null,
            "align_items": null,
            "align_self": null,
            "border": null,
            "bottom": null,
            "display": null,
            "flex": null,
            "flex_flow": null,
            "grid_area": null,
            "grid_auto_columns": null,
            "grid_auto_flow": null,
            "grid_auto_rows": null,
            "grid_column": null,
            "grid_gap": null,
            "grid_row": null,
            "grid_template_areas": null,
            "grid_template_columns": null,
            "grid_template_rows": null,
            "height": null,
            "justify_content": null,
            "justify_items": null,
            "left": null,
            "margin": null,
            "max_height": null,
            "max_width": null,
            "min_height": null,
            "min_width": null,
            "object_fit": null,
            "object_position": null,
            "order": null,
            "overflow": null,
            "overflow_x": null,
            "overflow_y": null,
            "padding": null,
            "right": null,
            "top": null,
            "visibility": null,
            "width": null
          }
        },
        "680c87524ee44deb8e8e6822858e971a": {
          "model_module": "@jupyter-widgets/controls",
          "model_module_version": "1.5.0",
          "model_name": "ProgressStyleModel",
          "state": {
            "_model_module": "@jupyter-widgets/controls",
            "_model_module_version": "1.5.0",
            "_model_name": "ProgressStyleModel",
            "_view_count": null,
            "_view_module": "@jupyter-widgets/base",
            "_view_module_version": "1.2.0",
            "_view_name": "StyleView",
            "bar_color": null,
            "description_width": ""
          }
        },
        "6c9f13a9acb24b79a4f7c290932bb112": {
          "model_module": "@jupyter-widgets/controls",
          "model_module_version": "1.5.0",
          "model_name": "HTMLModel",
          "state": {
            "_dom_classes": [],
            "_model_module": "@jupyter-widgets/controls",
            "_model_module_version": "1.5.0",
            "_model_name": "HTMLModel",
            "_view_count": null,
            "_view_module": "@jupyter-widgets/controls",
            "_view_module_version": "1.5.0",
            "_view_name": "HTMLView",
            "description": "",
            "description_tooltip": null,
            "layout": "IPY_MODEL_73ad483d5bbc4eaa8ad40a7bef9fe5bf",
            "placeholder": "​",
            "style": "IPY_MODEL_e57fc95c14374bdc83d2450af04f3147",
            "value": " 6/6 [16:17&lt;00:00, 163.13s/it]"
          }
        },
        "6cb14b175a4a4550843db50bfeeebc73": {
          "model_module": "@jupyter-widgets/controls",
          "model_module_version": "1.5.0",
          "model_name": "FloatProgressModel",
          "state": {
            "_dom_classes": [],
            "_model_module": "@jupyter-widgets/controls",
            "_model_module_version": "1.5.0",
            "_model_name": "FloatProgressModel",
            "_view_count": null,
            "_view_module": "@jupyter-widgets/controls",
            "_view_module_version": "1.5.0",
            "_view_name": "ProgressView",
            "bar_style": "success",
            "description": "",
            "description_tooltip": null,
            "layout": "IPY_MODEL_29bcb2641a9740d7ba9aec305b53a57d",
            "max": 6,
            "min": 0,
            "orientation": "horizontal",
            "style": "IPY_MODEL_680c87524ee44deb8e8e6822858e971a",
            "value": 6
          }
        },
        "6d0d47e9e51d4898ae87ddbdb08447ad": {
          "model_module": "@jupyter-widgets/controls",
          "model_module_version": "1.5.0",
          "model_name": "ProgressStyleModel",
          "state": {
            "_model_module": "@jupyter-widgets/controls",
            "_model_module_version": "1.5.0",
            "_model_name": "ProgressStyleModel",
            "_view_count": null,
            "_view_module": "@jupyter-widgets/base",
            "_view_module_version": "1.2.0",
            "_view_name": "StyleView",
            "bar_color": null,
            "description_width": ""
          }
        },
        "6f8cf5ecfb02417d825b553c88b47b6f": {
          "model_module": "@jupyter-widgets/base",
          "model_module_version": "1.2.0",
          "model_name": "LayoutModel",
          "state": {
            "_model_module": "@jupyter-widgets/base",
            "_model_module_version": "1.2.0",
            "_model_name": "LayoutModel",
            "_view_count": null,
            "_view_module": "@jupyter-widgets/base",
            "_view_module_version": "1.2.0",
            "_view_name": "LayoutView",
            "align_content": null,
            "align_items": null,
            "align_self": null,
            "border": null,
            "bottom": null,
            "display": null,
            "flex": null,
            "flex_flow": null,
            "grid_area": null,
            "grid_auto_columns": null,
            "grid_auto_flow": null,
            "grid_auto_rows": null,
            "grid_column": null,
            "grid_gap": null,
            "grid_row": null,
            "grid_template_areas": null,
            "grid_template_columns": null,
            "grid_template_rows": null,
            "height": null,
            "justify_content": null,
            "justify_items": null,
            "left": null,
            "margin": null,
            "max_height": null,
            "max_width": null,
            "min_height": null,
            "min_width": null,
            "object_fit": null,
            "object_position": null,
            "order": null,
            "overflow": null,
            "overflow_x": null,
            "overflow_y": null,
            "padding": null,
            "right": null,
            "top": null,
            "visibility": null,
            "width": null
          }
        },
        "710f4b9d41d047ab8b688e16b6cb9c06": {
          "model_module": "@jupyter-widgets/base",
          "model_module_version": "1.2.0",
          "model_name": "LayoutModel",
          "state": {
            "_model_module": "@jupyter-widgets/base",
            "_model_module_version": "1.2.0",
            "_model_name": "LayoutModel",
            "_view_count": null,
            "_view_module": "@jupyter-widgets/base",
            "_view_module_version": "1.2.0",
            "_view_name": "LayoutView",
            "align_content": null,
            "align_items": null,
            "align_self": null,
            "border": null,
            "bottom": null,
            "display": null,
            "flex": null,
            "flex_flow": null,
            "grid_area": null,
            "grid_auto_columns": null,
            "grid_auto_flow": null,
            "grid_auto_rows": null,
            "grid_column": null,
            "grid_gap": null,
            "grid_row": null,
            "grid_template_areas": null,
            "grid_template_columns": null,
            "grid_template_rows": null,
            "height": null,
            "justify_content": null,
            "justify_items": null,
            "left": null,
            "margin": null,
            "max_height": null,
            "max_width": null,
            "min_height": null,
            "min_width": null,
            "object_fit": null,
            "object_position": null,
            "order": null,
            "overflow": null,
            "overflow_x": null,
            "overflow_y": null,
            "padding": null,
            "right": null,
            "top": null,
            "visibility": null,
            "width": null
          }
        },
        "73ad483d5bbc4eaa8ad40a7bef9fe5bf": {
          "model_module": "@jupyter-widgets/base",
          "model_module_version": "1.2.0",
          "model_name": "LayoutModel",
          "state": {
            "_model_module": "@jupyter-widgets/base",
            "_model_module_version": "1.2.0",
            "_model_name": "LayoutModel",
            "_view_count": null,
            "_view_module": "@jupyter-widgets/base",
            "_view_module_version": "1.2.0",
            "_view_name": "LayoutView",
            "align_content": null,
            "align_items": null,
            "align_self": null,
            "border": null,
            "bottom": null,
            "display": null,
            "flex": null,
            "flex_flow": null,
            "grid_area": null,
            "grid_auto_columns": null,
            "grid_auto_flow": null,
            "grid_auto_rows": null,
            "grid_column": null,
            "grid_gap": null,
            "grid_row": null,
            "grid_template_areas": null,
            "grid_template_columns": null,
            "grid_template_rows": null,
            "height": null,
            "justify_content": null,
            "justify_items": null,
            "left": null,
            "margin": null,
            "max_height": null,
            "max_width": null,
            "min_height": null,
            "min_width": null,
            "object_fit": null,
            "object_position": null,
            "order": null,
            "overflow": null,
            "overflow_x": null,
            "overflow_y": null,
            "padding": null,
            "right": null,
            "top": null,
            "visibility": null,
            "width": null
          }
        },
        "7450cf8eb1a3474ab0ab62d4c81dad79": {
          "model_module": "@jupyter-widgets/controls",
          "model_module_version": "1.5.0",
          "model_name": "HTMLModel",
          "state": {
            "_dom_classes": [],
            "_model_module": "@jupyter-widgets/controls",
            "_model_module_version": "1.5.0",
            "_model_name": "HTMLModel",
            "_view_count": null,
            "_view_module": "@jupyter-widgets/controls",
            "_view_module_version": "1.5.0",
            "_view_name": "HTMLView",
            "description": "",
            "description_tooltip": null,
            "layout": "IPY_MODEL_55ed4ab2fa52442ea8d69f0e504abe44",
            "placeholder": "​",
            "style": "IPY_MODEL_63789707d3244b4586ce43a64a3824ea",
            "value": " 20/20 [03:01&lt;00:00,  7.75s/it]"
          }
        },
        "772c73fbba9048e6afb5e9773bbae7da": {
          "model_module": "@jupyter-widgets/controls",
          "model_module_version": "1.5.0",
          "model_name": "DescriptionStyleModel",
          "state": {
            "_model_module": "@jupyter-widgets/controls",
            "_model_module_version": "1.5.0",
            "_model_name": "DescriptionStyleModel",
            "_view_count": null,
            "_view_module": "@jupyter-widgets/base",
            "_view_module_version": "1.2.0",
            "_view_name": "StyleView",
            "description_width": ""
          }
        },
        "7a8b7bd40b004912bcce251feff0fd23": {
          "model_module": "@jupyter-widgets/controls",
          "model_module_version": "1.5.0",
          "model_name": "DescriptionStyleModel",
          "state": {
            "_model_module": "@jupyter-widgets/controls",
            "_model_module_version": "1.5.0",
            "_model_name": "DescriptionStyleModel",
            "_view_count": null,
            "_view_module": "@jupyter-widgets/base",
            "_view_module_version": "1.2.0",
            "_view_name": "StyleView",
            "description_width": ""
          }
        },
        "819c696a518d479184ee9fb28ff2254e": {
          "model_module": "@jupyter-widgets/controls",
          "model_module_version": "1.5.0",
          "model_name": "HTMLModel",
          "state": {
            "_dom_classes": [],
            "_model_module": "@jupyter-widgets/controls",
            "_model_module_version": "1.5.0",
            "_model_name": "HTMLModel",
            "_view_count": null,
            "_view_module": "@jupyter-widgets/controls",
            "_view_module_version": "1.5.0",
            "_view_name": "HTMLView",
            "description": "",
            "description_tooltip": null,
            "layout": "IPY_MODEL_612ebb4ab18a4dc2959c3b57782309f6",
            "placeholder": "​",
            "style": "IPY_MODEL_6386d8eb49094e5d9ff5ca02c14d5b71",
            "value": " 6/6 [16:26&lt;00:00, 164.32s/it]"
          }
        },
        "840344d575f94f20b744d21fcb1b8b59": {
          "model_module": "@jupyter-widgets/base",
          "model_module_version": "1.2.0",
          "model_name": "LayoutModel",
          "state": {
            "_model_module": "@jupyter-widgets/base",
            "_model_module_version": "1.2.0",
            "_model_name": "LayoutModel",
            "_view_count": null,
            "_view_module": "@jupyter-widgets/base",
            "_view_module_version": "1.2.0",
            "_view_name": "LayoutView",
            "align_content": null,
            "align_items": null,
            "align_self": null,
            "border": null,
            "bottom": null,
            "display": null,
            "flex": null,
            "flex_flow": null,
            "grid_area": null,
            "grid_auto_columns": null,
            "grid_auto_flow": null,
            "grid_auto_rows": null,
            "grid_column": null,
            "grid_gap": null,
            "grid_row": null,
            "grid_template_areas": null,
            "grid_template_columns": null,
            "grid_template_rows": null,
            "height": null,
            "justify_content": null,
            "justify_items": null,
            "left": null,
            "margin": null,
            "max_height": null,
            "max_width": null,
            "min_height": null,
            "min_width": null,
            "object_fit": null,
            "object_position": null,
            "order": null,
            "overflow": null,
            "overflow_x": null,
            "overflow_y": null,
            "padding": null,
            "right": null,
            "top": null,
            "visibility": null,
            "width": null
          }
        },
        "882430b89b2a456ca84405597e972399": {
          "model_module": "@jupyter-widgets/controls",
          "model_module_version": "1.5.0",
          "model_name": "DescriptionStyleModel",
          "state": {
            "_model_module": "@jupyter-widgets/controls",
            "_model_module_version": "1.5.0",
            "_model_name": "DescriptionStyleModel",
            "_view_count": null,
            "_view_module": "@jupyter-widgets/base",
            "_view_module_version": "1.2.0",
            "_view_name": "StyleView",
            "description_width": ""
          }
        },
        "8d27d20794624f01bd7914a3db19e895": {
          "model_module": "@jupyter-widgets/controls",
          "model_module_version": "1.5.0",
          "model_name": "ProgressStyleModel",
          "state": {
            "_model_module": "@jupyter-widgets/controls",
            "_model_module_version": "1.5.0",
            "_model_name": "ProgressStyleModel",
            "_view_count": null,
            "_view_module": "@jupyter-widgets/base",
            "_view_module_version": "1.2.0",
            "_view_name": "StyleView",
            "bar_color": null,
            "description_width": ""
          }
        },
        "8d52649689e8481785b0b0d11a641ae8": {
          "model_module": "@jupyter-widgets/controls",
          "model_module_version": "1.5.0",
          "model_name": "DescriptionStyleModel",
          "state": {
            "_model_module": "@jupyter-widgets/controls",
            "_model_module_version": "1.5.0",
            "_model_name": "DescriptionStyleModel",
            "_view_count": null,
            "_view_module": "@jupyter-widgets/base",
            "_view_module_version": "1.2.0",
            "_view_name": "StyleView",
            "description_width": ""
          }
        },
        "8ebef3298d164c23a8bd2ab324f62bf5": {
          "model_module": "@jupyter-widgets/controls",
          "model_module_version": "1.5.0",
          "model_name": "FloatProgressModel",
          "state": {
            "_dom_classes": [],
            "_model_module": "@jupyter-widgets/controls",
            "_model_module_version": "1.5.0",
            "_model_name": "FloatProgressModel",
            "_view_count": null,
            "_view_module": "@jupyter-widgets/controls",
            "_view_module_version": "1.5.0",
            "_view_name": "ProgressView",
            "bar_style": "success",
            "description": "",
            "description_tooltip": null,
            "layout": "IPY_MODEL_1e35b4a326d9474da47e9545f7613387",
            "max": 6,
            "min": 0,
            "orientation": "horizontal",
            "style": "IPY_MODEL_8d27d20794624f01bd7914a3db19e895",
            "value": 6
          }
        },
        "8ec24ec3a68e4defb9ec271e265971e4": {
          "model_module": "@jupyter-widgets/base",
          "model_module_version": "1.2.0",
          "model_name": "LayoutModel",
          "state": {
            "_model_module": "@jupyter-widgets/base",
            "_model_module_version": "1.2.0",
            "_model_name": "LayoutModel",
            "_view_count": null,
            "_view_module": "@jupyter-widgets/base",
            "_view_module_version": "1.2.0",
            "_view_name": "LayoutView",
            "align_content": null,
            "align_items": null,
            "align_self": null,
            "border": null,
            "bottom": null,
            "display": null,
            "flex": null,
            "flex_flow": null,
            "grid_area": null,
            "grid_auto_columns": null,
            "grid_auto_flow": null,
            "grid_auto_rows": null,
            "grid_column": null,
            "grid_gap": null,
            "grid_row": null,
            "grid_template_areas": null,
            "grid_template_columns": null,
            "grid_template_rows": null,
            "height": null,
            "justify_content": null,
            "justify_items": null,
            "left": null,
            "margin": null,
            "max_height": null,
            "max_width": null,
            "min_height": null,
            "min_width": null,
            "object_fit": null,
            "object_position": null,
            "order": null,
            "overflow": null,
            "overflow_x": null,
            "overflow_y": null,
            "padding": null,
            "right": null,
            "top": null,
            "visibility": null,
            "width": null
          }
        },
        "8fc11745a55644ff99ea6d7481f9c487": {
          "model_module": "@jupyter-widgets/controls",
          "model_module_version": "1.5.0",
          "model_name": "FloatProgressModel",
          "state": {
            "_dom_classes": [],
            "_model_module": "@jupyter-widgets/controls",
            "_model_module_version": "1.5.0",
            "_model_name": "FloatProgressModel",
            "_view_count": null,
            "_view_module": "@jupyter-widgets/controls",
            "_view_module_version": "1.5.0",
            "_view_name": "ProgressView",
            "bar_style": "success",
            "description": "",
            "description_tooltip": null,
            "layout": "IPY_MODEL_4ca22813055f42818acd36ab1300edc0",
            "max": 6,
            "min": 0,
            "orientation": "horizontal",
            "style": "IPY_MODEL_378df28070df4d20a53008c7bd4b0fca",
            "value": 6
          }
        },
        "95420f4eb9694fc384cdc6e091e23c46": {
          "model_module": "@jupyter-widgets/base",
          "model_module_version": "1.2.0",
          "model_name": "LayoutModel",
          "state": {
            "_model_module": "@jupyter-widgets/base",
            "_model_module_version": "1.2.0",
            "_model_name": "LayoutModel",
            "_view_count": null,
            "_view_module": "@jupyter-widgets/base",
            "_view_module_version": "1.2.0",
            "_view_name": "LayoutView",
            "align_content": null,
            "align_items": null,
            "align_self": null,
            "border": null,
            "bottom": null,
            "display": null,
            "flex": null,
            "flex_flow": null,
            "grid_area": null,
            "grid_auto_columns": null,
            "grid_auto_flow": null,
            "grid_auto_rows": null,
            "grid_column": null,
            "grid_gap": null,
            "grid_row": null,
            "grid_template_areas": null,
            "grid_template_columns": null,
            "grid_template_rows": null,
            "height": null,
            "justify_content": null,
            "justify_items": null,
            "left": null,
            "margin": null,
            "max_height": null,
            "max_width": null,
            "min_height": null,
            "min_width": null,
            "object_fit": null,
            "object_position": null,
            "order": null,
            "overflow": null,
            "overflow_x": null,
            "overflow_y": null,
            "padding": null,
            "right": null,
            "top": null,
            "visibility": null,
            "width": null
          }
        },
        "96e3c0a93978469ea68b76c4f2024ca9": {
          "model_module": "@jupyter-widgets/controls",
          "model_module_version": "1.5.0",
          "model_name": "HTMLModel",
          "state": {
            "_dom_classes": [],
            "_model_module": "@jupyter-widgets/controls",
            "_model_module_version": "1.5.0",
            "_model_name": "HTMLModel",
            "_view_count": null,
            "_view_module": "@jupyter-widgets/controls",
            "_view_module_version": "1.5.0",
            "_view_name": "HTMLView",
            "description": "",
            "description_tooltip": null,
            "layout": "IPY_MODEL_ac124bd3899b48379ee2e2969f6aa09b",
            "placeholder": "​",
            "style": "IPY_MODEL_2ca8e91c97a14f8e8fed0c7ed4f7c3ed",
            "value": "scanning 3/9 weight - backbone.conv2.weight: 100%"
          }
        },
        "981407ed4fe44b36befa6a60982e0d62": {
          "model_module": "@jupyter-widgets/base",
          "model_module_version": "1.2.0",
          "model_name": "LayoutModel",
          "state": {
            "_model_module": "@jupyter-widgets/base",
            "_model_module_version": "1.2.0",
            "_model_name": "LayoutModel",
            "_view_count": null,
            "_view_module": "@jupyter-widgets/base",
            "_view_module_version": "1.2.0",
            "_view_name": "LayoutView",
            "align_content": null,
            "align_items": null,
            "align_self": null,
            "border": null,
            "bottom": null,
            "display": null,
            "flex": null,
            "flex_flow": null,
            "grid_area": null,
            "grid_auto_columns": null,
            "grid_auto_flow": null,
            "grid_auto_rows": null,
            "grid_column": null,
            "grid_gap": null,
            "grid_row": null,
            "grid_template_areas": null,
            "grid_template_columns": null,
            "grid_template_rows": null,
            "height": null,
            "justify_content": null,
            "justify_items": null,
            "left": null,
            "margin": null,
            "max_height": null,
            "max_width": null,
            "min_height": null,
            "min_width": null,
            "object_fit": null,
            "object_position": null,
            "order": null,
            "overflow": null,
            "overflow_x": null,
            "overflow_y": null,
            "padding": null,
            "right": null,
            "top": null,
            "visibility": "hidden",
            "width": null
          }
        },
        "998f65f66895474a9d4e9e7464dc89c7": {
          "model_module": "@jupyter-widgets/base",
          "model_module_version": "1.2.0",
          "model_name": "LayoutModel",
          "state": {
            "_model_module": "@jupyter-widgets/base",
            "_model_module_version": "1.2.0",
            "_model_name": "LayoutModel",
            "_view_count": null,
            "_view_module": "@jupyter-widgets/base",
            "_view_module_version": "1.2.0",
            "_view_name": "LayoutView",
            "align_content": null,
            "align_items": null,
            "align_self": null,
            "border": null,
            "bottom": null,
            "display": null,
            "flex": null,
            "flex_flow": null,
            "grid_area": null,
            "grid_auto_columns": null,
            "grid_auto_flow": null,
            "grid_auto_rows": null,
            "grid_column": null,
            "grid_gap": null,
            "grid_row": null,
            "grid_template_areas": null,
            "grid_template_columns": null,
            "grid_template_rows": null,
            "height": null,
            "justify_content": null,
            "justify_items": null,
            "left": null,
            "margin": null,
            "max_height": null,
            "max_width": null,
            "min_height": null,
            "min_width": null,
            "object_fit": null,
            "object_position": null,
            "order": null,
            "overflow": null,
            "overflow_x": null,
            "overflow_y": null,
            "padding": null,
            "right": null,
            "top": null,
            "visibility": null,
            "width": null
          }
        },
        "99d26ca662da483dbec4ca41c818e892": {
          "model_module": "@jupyter-widgets/controls",
          "model_module_version": "1.5.0",
          "model_name": "HBoxModel",
          "state": {
            "_dom_classes": [],
            "_model_module": "@jupyter-widgets/controls",
            "_model_module_version": "1.5.0",
            "_model_name": "HBoxModel",
            "_view_count": null,
            "_view_module": "@jupyter-widgets/controls",
            "_view_module_version": "1.5.0",
            "_view_name": "HBoxView",
            "box_style": "",
            "children": [
              "IPY_MODEL_20b561915e37462081187443f668966f",
              "IPY_MODEL_c1a98c57d06345f0874274a94d14cdda",
              "IPY_MODEL_ddd2750a7e484cfeb263bebe206caa51"
            ],
            "layout": "IPY_MODEL_f4fd363a5c6c4e1c8059c1356471ee20"
          }
        },
        "9a0aa8a23d3949d9850d015c39211c6f": {
          "model_module": "@jupyter-widgets/controls",
          "model_module_version": "1.5.0",
          "model_name": "ProgressStyleModel",
          "state": {
            "_model_module": "@jupyter-widgets/controls",
            "_model_module_version": "1.5.0",
            "_model_name": "ProgressStyleModel",
            "_view_count": null,
            "_view_module": "@jupyter-widgets/base",
            "_view_module_version": "1.2.0",
            "_view_name": "StyleView",
            "bar_color": null,
            "description_width": ""
          }
        },
        "9cfe110ce630400cb5840e7aa9790c05": {
          "model_module": "@jupyter-widgets/controls",
          "model_module_version": "1.5.0",
          "model_name": "FloatProgressModel",
          "state": {
            "_dom_classes": [],
            "_model_module": "@jupyter-widgets/controls",
            "_model_module_version": "1.5.0",
            "_model_name": "FloatProgressModel",
            "_view_count": null,
            "_view_module": "@jupyter-widgets/controls",
            "_view_module_version": "1.5.0",
            "_view_name": "ProgressView",
            "bar_style": "",
            "description": "",
            "description_tooltip": null,
            "layout": "IPY_MODEL_840344d575f94f20b744d21fcb1b8b59",
            "max": 20,
            "min": 0,
            "orientation": "horizontal",
            "style": "IPY_MODEL_6d0d47e9e51d4898ae87ddbdb08447ad",
            "value": 20
          }
        },
        "a4fcf3a47189475a9c1781f06dcf3d49": {
          "model_module": "@jupyter-widgets/base",
          "model_module_version": "1.2.0",
          "model_name": "LayoutModel",
          "state": {
            "_model_module": "@jupyter-widgets/base",
            "_model_module_version": "1.2.0",
            "_model_name": "LayoutModel",
            "_view_count": null,
            "_view_module": "@jupyter-widgets/base",
            "_view_module_version": "1.2.0",
            "_view_name": "LayoutView",
            "align_content": null,
            "align_items": null,
            "align_self": null,
            "border": null,
            "bottom": null,
            "display": null,
            "flex": null,
            "flex_flow": null,
            "grid_area": null,
            "grid_auto_columns": null,
            "grid_auto_flow": null,
            "grid_auto_rows": null,
            "grid_column": null,
            "grid_gap": null,
            "grid_row": null,
            "grid_template_areas": null,
            "grid_template_columns": null,
            "grid_template_rows": null,
            "height": null,
            "justify_content": null,
            "justify_items": null,
            "left": null,
            "margin": null,
            "max_height": null,
            "max_width": null,
            "min_height": null,
            "min_width": null,
            "object_fit": null,
            "object_position": null,
            "order": null,
            "overflow": null,
            "overflow_x": null,
            "overflow_y": null,
            "padding": null,
            "right": null,
            "top": null,
            "visibility": null,
            "width": null
          }
        },
        "ac124bd3899b48379ee2e2969f6aa09b": {
          "model_module": "@jupyter-widgets/base",
          "model_module_version": "1.2.0",
          "model_name": "LayoutModel",
          "state": {
            "_model_module": "@jupyter-widgets/base",
            "_model_module_version": "1.2.0",
            "_model_name": "LayoutModel",
            "_view_count": null,
            "_view_module": "@jupyter-widgets/base",
            "_view_module_version": "1.2.0",
            "_view_name": "LayoutView",
            "align_content": null,
            "align_items": null,
            "align_self": null,
            "border": null,
            "bottom": null,
            "display": null,
            "flex": null,
            "flex_flow": null,
            "grid_area": null,
            "grid_auto_columns": null,
            "grid_auto_flow": null,
            "grid_auto_rows": null,
            "grid_column": null,
            "grid_gap": null,
            "grid_row": null,
            "grid_template_areas": null,
            "grid_template_columns": null,
            "grid_template_rows": null,
            "height": null,
            "justify_content": null,
            "justify_items": null,
            "left": null,
            "margin": null,
            "max_height": null,
            "max_width": null,
            "min_height": null,
            "min_width": null,
            "object_fit": null,
            "object_position": null,
            "order": null,
            "overflow": null,
            "overflow_x": null,
            "overflow_y": null,
            "padding": null,
            "right": null,
            "top": null,
            "visibility": null,
            "width": null
          }
        },
        "b3ebd3b206914b3f9f8ef7b086fc1322": {
          "model_module": "@jupyter-widgets/base",
          "model_module_version": "1.2.0",
          "model_name": "LayoutModel",
          "state": {
            "_model_module": "@jupyter-widgets/base",
            "_model_module_version": "1.2.0",
            "_model_name": "LayoutModel",
            "_view_count": null,
            "_view_module": "@jupyter-widgets/base",
            "_view_module_version": "1.2.0",
            "_view_name": "LayoutView",
            "align_content": null,
            "align_items": null,
            "align_self": null,
            "border": null,
            "bottom": null,
            "display": null,
            "flex": null,
            "flex_flow": null,
            "grid_area": null,
            "grid_auto_columns": null,
            "grid_auto_flow": null,
            "grid_auto_rows": null,
            "grid_column": null,
            "grid_gap": null,
            "grid_row": null,
            "grid_template_areas": null,
            "grid_template_columns": null,
            "grid_template_rows": null,
            "height": null,
            "justify_content": null,
            "justify_items": null,
            "left": null,
            "margin": null,
            "max_height": null,
            "max_width": null,
            "min_height": null,
            "min_width": null,
            "object_fit": null,
            "object_position": null,
            "order": null,
            "overflow": null,
            "overflow_x": null,
            "overflow_y": null,
            "padding": null,
            "right": null,
            "top": null,
            "visibility": null,
            "width": null
          }
        },
        "b48141ec2cc4485a9b354d29ccd3025b": {
          "model_module": "@jupyter-widgets/controls",
          "model_module_version": "1.5.0",
          "model_name": "DescriptionStyleModel",
          "state": {
            "_model_module": "@jupyter-widgets/controls",
            "_model_module_version": "1.5.0",
            "_model_name": "DescriptionStyleModel",
            "_view_count": null,
            "_view_module": "@jupyter-widgets/base",
            "_view_module_version": "1.2.0",
            "_view_name": "StyleView",
            "description_width": ""
          }
        },
        "b547cd6093664bde94f2626e26d17673": {
          "model_module": "@jupyter-widgets/base",
          "model_module_version": "1.2.0",
          "model_name": "LayoutModel",
          "state": {
            "_model_module": "@jupyter-widgets/base",
            "_model_module_version": "1.2.0",
            "_model_name": "LayoutModel",
            "_view_count": null,
            "_view_module": "@jupyter-widgets/base",
            "_view_module_version": "1.2.0",
            "_view_name": "LayoutView",
            "align_content": null,
            "align_items": null,
            "align_self": null,
            "border": null,
            "bottom": null,
            "display": null,
            "flex": null,
            "flex_flow": null,
            "grid_area": null,
            "grid_auto_columns": null,
            "grid_auto_flow": null,
            "grid_auto_rows": null,
            "grid_column": null,
            "grid_gap": null,
            "grid_row": null,
            "grid_template_areas": null,
            "grid_template_columns": null,
            "grid_template_rows": null,
            "height": null,
            "justify_content": null,
            "justify_items": null,
            "left": null,
            "margin": null,
            "max_height": null,
            "max_width": null,
            "min_height": null,
            "min_width": null,
            "object_fit": null,
            "object_position": null,
            "order": null,
            "overflow": null,
            "overflow_x": null,
            "overflow_y": null,
            "padding": null,
            "right": null,
            "top": null,
            "visibility": null,
            "width": null
          }
        },
        "b9eacdc266de4e759a79236746964e87": {
          "model_module": "@jupyter-widgets/base",
          "model_module_version": "1.2.0",
          "model_name": "LayoutModel",
          "state": {
            "_model_module": "@jupyter-widgets/base",
            "_model_module_version": "1.2.0",
            "_model_name": "LayoutModel",
            "_view_count": null,
            "_view_module": "@jupyter-widgets/base",
            "_view_module_version": "1.2.0",
            "_view_name": "LayoutView",
            "align_content": null,
            "align_items": null,
            "align_self": null,
            "border": null,
            "bottom": null,
            "display": null,
            "flex": null,
            "flex_flow": null,
            "grid_area": null,
            "grid_auto_columns": null,
            "grid_auto_flow": null,
            "grid_auto_rows": null,
            "grid_column": null,
            "grid_gap": null,
            "grid_row": null,
            "grid_template_areas": null,
            "grid_template_columns": null,
            "grid_template_rows": null,
            "height": null,
            "justify_content": null,
            "justify_items": null,
            "left": null,
            "margin": null,
            "max_height": null,
            "max_width": null,
            "min_height": null,
            "min_width": null,
            "object_fit": null,
            "object_position": null,
            "order": null,
            "overflow": null,
            "overflow_x": null,
            "overflow_y": null,
            "padding": null,
            "right": null,
            "top": null,
            "visibility": null,
            "width": null
          }
        },
        "c1a98c57d06345f0874274a94d14cdda": {
          "model_module": "@jupyter-widgets/controls",
          "model_module_version": "1.5.0",
          "model_name": "FloatProgressModel",
          "state": {
            "_dom_classes": [],
            "_model_module": "@jupyter-widgets/controls",
            "_model_module_version": "1.5.0",
            "_model_name": "FloatProgressModel",
            "_view_count": null,
            "_view_module": "@jupyter-widgets/controls",
            "_view_module_version": "1.5.0",
            "_view_name": "ProgressView",
            "bar_style": "",
            "description": "",
            "description_tooltip": null,
            "layout": "IPY_MODEL_2c83683d2aea4f3e9a23ff8b18cee515",
            "max": 6,
            "min": 0,
            "orientation": "horizontal",
            "style": "IPY_MODEL_2bb650577eef4e78bda3be996f379e13",
            "value": 3
          }
        },
        "c416fdcd38ea4f5790bee23aa1f3b054": {
          "model_module": "@jupyter-widgets/controls",
          "model_module_version": "1.5.0",
          "model_name": "HBoxModel",
          "state": {
            "_dom_classes": [],
            "_model_module": "@jupyter-widgets/controls",
            "_model_module_version": "1.5.0",
            "_model_name": "HBoxModel",
            "_view_count": null,
            "_view_module": "@jupyter-widgets/controls",
            "_view_module_version": "1.5.0",
            "_view_name": "HBoxView",
            "box_style": "",
            "children": [
              "IPY_MODEL_2432662a90584156ad3fb3d28c5a8737",
              "IPY_MODEL_9cfe110ce630400cb5840e7aa9790c05",
              "IPY_MODEL_7450cf8eb1a3474ab0ab62d4c81dad79"
            ],
            "layout": "IPY_MODEL_981407ed4fe44b36befa6a60982e0d62"
          }
        },
        "c4b423f1d9634744a98e0e83a99310c9": {
          "model_module": "@jupyter-widgets/controls",
          "model_module_version": "1.5.0",
          "model_name": "HBoxModel",
          "state": {
            "_dom_classes": [],
            "_model_module": "@jupyter-widgets/controls",
            "_model_module_version": "1.5.0",
            "_model_name": "HBoxModel",
            "_view_count": null,
            "_view_module": "@jupyter-widgets/controls",
            "_view_module_version": "1.5.0",
            "_view_name": "HBoxView",
            "box_style": "",
            "children": [
              "IPY_MODEL_96e3c0a93978469ea68b76c4f2024ca9",
              "IPY_MODEL_6cb14b175a4a4550843db50bfeeebc73",
              "IPY_MODEL_f94829ad3d09437a9b787e5926978e9f"
            ],
            "layout": "IPY_MODEL_c98dc98433dc49e5b1144ba8ce129278"
          }
        },
        "c8d5df1182994784bade12020d5f9d25": {
          "model_module": "@jupyter-widgets/controls",
          "model_module_version": "1.5.0",
          "model_name": "HBoxModel",
          "state": {
            "_dom_classes": [],
            "_model_module": "@jupyter-widgets/controls",
            "_model_module_version": "1.5.0",
            "_model_name": "HBoxModel",
            "_view_count": null,
            "_view_module": "@jupyter-widgets/controls",
            "_view_module_version": "1.5.0",
            "_view_name": "HBoxView",
            "box_style": "",
            "children": [
              "IPY_MODEL_d36d187680154c92a6c169802fce7c37",
              "IPY_MODEL_f4f9dafe630e480c995219c01d3b12d0",
              "IPY_MODEL_6c9f13a9acb24b79a4f7c290932bb112"
            ],
            "layout": "IPY_MODEL_48a9f312b5f24bd580071afac09edc75"
          }
        },
        "c98dc98433dc49e5b1144ba8ce129278": {
          "model_module": "@jupyter-widgets/base",
          "model_module_version": "1.2.0",
          "model_name": "LayoutModel",
          "state": {
            "_model_module": "@jupyter-widgets/base",
            "_model_module_version": "1.2.0",
            "_model_name": "LayoutModel",
            "_view_count": null,
            "_view_module": "@jupyter-widgets/base",
            "_view_module_version": "1.2.0",
            "_view_name": "LayoutView",
            "align_content": null,
            "align_items": null,
            "align_self": null,
            "border": null,
            "bottom": null,
            "display": null,
            "flex": null,
            "flex_flow": null,
            "grid_area": null,
            "grid_auto_columns": null,
            "grid_auto_flow": null,
            "grid_auto_rows": null,
            "grid_column": null,
            "grid_gap": null,
            "grid_row": null,
            "grid_template_areas": null,
            "grid_template_columns": null,
            "grid_template_rows": null,
            "height": null,
            "justify_content": null,
            "justify_items": null,
            "left": null,
            "margin": null,
            "max_height": null,
            "max_width": null,
            "min_height": null,
            "min_width": null,
            "object_fit": null,
            "object_position": null,
            "order": null,
            "overflow": null,
            "overflow_x": null,
            "overflow_y": null,
            "padding": null,
            "right": null,
            "top": null,
            "visibility": null,
            "width": null
          }
        },
        "ce85f450487f4faf8f3475d80f06882b": {
          "model_module": "@jupyter-widgets/controls",
          "model_module_version": "1.5.0",
          "model_name": "DescriptionStyleModel",
          "state": {
            "_model_module": "@jupyter-widgets/controls",
            "_model_module_version": "1.5.0",
            "_model_name": "DescriptionStyleModel",
            "_view_count": null,
            "_view_module": "@jupyter-widgets/base",
            "_view_module_version": "1.2.0",
            "_view_name": "StyleView",
            "description_width": ""
          }
        },
        "d36d187680154c92a6c169802fce7c37": {
          "model_module": "@jupyter-widgets/controls",
          "model_module_version": "1.5.0",
          "model_name": "HTMLModel",
          "state": {
            "_dom_classes": [],
            "_model_module": "@jupyter-widgets/controls",
            "_model_module_version": "1.5.0",
            "_model_name": "HTMLModel",
            "_view_count": null,
            "_view_module": "@jupyter-widgets/controls",
            "_view_module_version": "1.5.0",
            "_view_name": "HTMLView",
            "description": "",
            "description_tooltip": null,
            "layout": "IPY_MODEL_b9eacdc266de4e759a79236746964e87",
            "placeholder": "​",
            "style": "IPY_MODEL_4e8cc06d6d1949799e574d31cad14c16",
            "value": "scanning 6/9 weight - backbone.conv5.weight: 100%"
          }
        },
        "d6a633659f7943aeb46360539763fdeb": {
          "model_module": "@jupyter-widgets/controls",
          "model_module_version": "1.5.0",
          "model_name": "ProgressStyleModel",
          "state": {
            "_model_module": "@jupyter-widgets/controls",
            "_model_module_version": "1.5.0",
            "_model_name": "ProgressStyleModel",
            "_view_count": null,
            "_view_module": "@jupyter-widgets/base",
            "_view_module_version": "1.2.0",
            "_view_name": "StyleView",
            "bar_color": null,
            "description_width": ""
          }
        },
        "d8ea7fb9f94243b1a11b9ea9d329902d": {
          "model_module": "@jupyter-widgets/controls",
          "model_module_version": "1.5.0",
          "model_name": "DescriptionStyleModel",
          "state": {
            "_model_module": "@jupyter-widgets/controls",
            "_model_module_version": "1.5.0",
            "_model_name": "DescriptionStyleModel",
            "_view_count": null,
            "_view_module": "@jupyter-widgets/base",
            "_view_module_version": "1.2.0",
            "_view_name": "StyleView",
            "description_width": ""
          }
        },
        "ddd2750a7e484cfeb263bebe206caa51": {
          "model_module": "@jupyter-widgets/controls",
          "model_module_version": "1.5.0",
          "model_name": "HTMLModel",
          "state": {
            "_dom_classes": [],
            "_model_module": "@jupyter-widgets/controls",
            "_model_module_version": "1.5.0",
            "_model_name": "HTMLModel",
            "_view_count": null,
            "_view_module": "@jupyter-widgets/controls",
            "_view_module_version": "1.5.0",
            "_view_name": "HTMLView",
            "description": "",
            "description_tooltip": null,
            "layout": "IPY_MODEL_4b5d5caa42324e97b6fb49cd30e0e83f",
            "placeholder": "​",
            "style": "IPY_MODEL_772c73fbba9048e6afb5e9773bbae7da",
            "value": " 3/6 [08:08&lt;08:08, 162.97s/it]"
          }
        },
        "e32d433856404053b85d302ede16b532": {
          "model_module": "@jupyter-widgets/controls",
          "model_module_version": "1.5.0",
          "model_name": "HTMLModel",
          "state": {
            "_dom_classes": [],
            "_model_module": "@jupyter-widgets/controls",
            "_model_module_version": "1.5.0",
            "_model_name": "HTMLModel",
            "_view_count": null,
            "_view_module": "@jupyter-widgets/controls",
            "_view_module_version": "1.5.0",
            "_view_name": "HTMLView",
            "description": "",
            "description_tooltip": null,
            "layout": "IPY_MODEL_37c539f5b4924ca991b8fd5e4fc2b9c5",
            "placeholder": "​",
            "style": "IPY_MODEL_7a8b7bd40b004912bcce251feff0fd23",
            "value": "scanning 1/9 weight - backbone.conv0.weight: 100%"
          }
        },
        "e3c03580a444475f85220a2bcee979f2": {
          "model_module": "@jupyter-widgets/controls",
          "model_module_version": "1.5.0",
          "model_name": "ProgressStyleModel",
          "state": {
            "_model_module": "@jupyter-widgets/controls",
            "_model_module_version": "1.5.0",
            "_model_name": "ProgressStyleModel",
            "_view_count": null,
            "_view_module": "@jupyter-widgets/base",
            "_view_module_version": "1.2.0",
            "_view_name": "StyleView",
            "bar_color": null,
            "description_width": ""
          }
        },
        "e57fc95c14374bdc83d2450af04f3147": {
          "model_module": "@jupyter-widgets/controls",
          "model_module_version": "1.5.0",
          "model_name": "DescriptionStyleModel",
          "state": {
            "_model_module": "@jupyter-widgets/controls",
            "_model_module_version": "1.5.0",
            "_model_name": "DescriptionStyleModel",
            "_view_count": null,
            "_view_module": "@jupyter-widgets/base",
            "_view_module_version": "1.2.0",
            "_view_name": "StyleView",
            "description_width": ""
          }
        },
        "e5cafa86016c4e76b50489e719c8df0a": {
          "model_module": "@jupyter-widgets/controls",
          "model_module_version": "1.5.0",
          "model_name": "FloatProgressModel",
          "state": {
            "_dom_classes": [],
            "_model_module": "@jupyter-widgets/controls",
            "_model_module_version": "1.5.0",
            "_model_name": "FloatProgressModel",
            "_view_count": null,
            "_view_module": "@jupyter-widgets/controls",
            "_view_module_version": "1.5.0",
            "_view_name": "ProgressView",
            "bar_style": "success",
            "description": "",
            "description_tooltip": null,
            "layout": "IPY_MODEL_710f4b9d41d047ab8b688e16b6cb9c06",
            "max": 6,
            "min": 0,
            "orientation": "horizontal",
            "style": "IPY_MODEL_d6a633659f7943aeb46360539763fdeb",
            "value": 6
          }
        },
        "e9e89fbac9534bc197563fad999f2567": {
          "model_module": "@jupyter-widgets/controls",
          "model_module_version": "1.5.0",
          "model_name": "HTMLModel",
          "state": {
            "_dom_classes": [],
            "_model_module": "@jupyter-widgets/controls",
            "_model_module_version": "1.5.0",
            "_model_name": "HTMLModel",
            "_view_count": null,
            "_view_module": "@jupyter-widgets/controls",
            "_view_module_version": "1.5.0",
            "_view_name": "HTMLView",
            "description": "",
            "description_tooltip": null,
            "layout": "IPY_MODEL_a4fcf3a47189475a9c1781f06dcf3d49",
            "placeholder": "​",
            "style": "IPY_MODEL_882430b89b2a456ca84405597e972399",
            "value": " 6/6 [16:23&lt;00:00, 163.96s/it]"
          }
        },
        "ebce20b000ce437189c082cb81b24ba8": {
          "model_module": "@jupyter-widgets/controls",
          "model_module_version": "1.5.0",
          "model_name": "HBoxModel",
          "state": {
            "_dom_classes": [],
            "_model_module": "@jupyter-widgets/controls",
            "_model_module_version": "1.5.0",
            "_model_name": "HBoxModel",
            "_view_count": null,
            "_view_module": "@jupyter-widgets/controls",
            "_view_module_version": "1.5.0",
            "_view_name": "HBoxView",
            "box_style": "",
            "children": [
              "IPY_MODEL_f2bd01fe95d14f56be7a451e2f8831cf",
              "IPY_MODEL_e5cafa86016c4e76b50489e719c8df0a",
              "IPY_MODEL_e9e89fbac9534bc197563fad999f2567"
            ],
            "layout": "IPY_MODEL_0ab7f80cca374272925bf5dabf98d2ba"
          }
        },
        "f0f44f517f9f454fae997b1b23122c13": {
          "model_module": "@jupyter-widgets/controls",
          "model_module_version": "1.5.0",
          "model_name": "HTMLModel",
          "state": {
            "_dom_classes": [],
            "_model_module": "@jupyter-widgets/controls",
            "_model_module_version": "1.5.0",
            "_model_name": "HTMLModel",
            "_view_count": null,
            "_view_module": "@jupyter-widgets/controls",
            "_view_module_version": "1.5.0",
            "_view_name": "HTMLView",
            "description": "",
            "description_tooltip": null,
            "layout": "IPY_MODEL_6f8cf5ecfb02417d825b553c88b47b6f",
            "placeholder": "​",
            "style": "IPY_MODEL_5bf5204e2dd84717839fee1dbb62c432",
            "value": " 6/6 [16:18&lt;00:00, 162.84s/it]"
          }
        },
        "f2bd01fe95d14f56be7a451e2f8831cf": {
          "model_module": "@jupyter-widgets/controls",
          "model_module_version": "1.5.0",
          "model_name": "HTMLModel",
          "state": {
            "_dom_classes": [],
            "_model_module": "@jupyter-widgets/controls",
            "_model_module_version": "1.5.0",
            "_model_name": "HTMLModel",
            "_view_count": null,
            "_view_module": "@jupyter-widgets/controls",
            "_view_module_version": "1.5.0",
            "_view_name": "HTMLView",
            "description": "",
            "description_tooltip": null,
            "layout": "IPY_MODEL_55f3ee630eb14135928b962edefd7c01",
            "placeholder": "​",
            "style": "IPY_MODEL_d8ea7fb9f94243b1a11b9ea9d329902d",
            "value": "scanning 2/9 weight - backbone.conv1.weight: 100%"
          }
        },
        "f4f9dafe630e480c995219c01d3b12d0": {
          "model_module": "@jupyter-widgets/controls",
          "model_module_version": "1.5.0",
          "model_name": "FloatProgressModel",
          "state": {
            "_dom_classes": [],
            "_model_module": "@jupyter-widgets/controls",
            "_model_module_version": "1.5.0",
            "_model_name": "FloatProgressModel",
            "_view_count": null,
            "_view_module": "@jupyter-widgets/controls",
            "_view_module_version": "1.5.0",
            "_view_name": "ProgressView",
            "bar_style": "success",
            "description": "",
            "description_tooltip": null,
            "layout": "IPY_MODEL_998f65f66895474a9d4e9e7464dc89c7",
            "max": 6,
            "min": 0,
            "orientation": "horizontal",
            "style": "IPY_MODEL_e3c03580a444475f85220a2bcee979f2",
            "value": 6
          }
        },
        "f4fd363a5c6c4e1c8059c1356471ee20": {
          "model_module": "@jupyter-widgets/base",
          "model_module_version": "1.2.0",
          "model_name": "LayoutModel",
          "state": {
            "_model_module": "@jupyter-widgets/base",
            "_model_module_version": "1.2.0",
            "_model_name": "LayoutModel",
            "_view_count": null,
            "_view_module": "@jupyter-widgets/base",
            "_view_module_version": "1.2.0",
            "_view_name": "LayoutView",
            "align_content": null,
            "align_items": null,
            "align_self": null,
            "border": null,
            "bottom": null,
            "display": null,
            "flex": null,
            "flex_flow": null,
            "grid_area": null,
            "grid_auto_columns": null,
            "grid_auto_flow": null,
            "grid_auto_rows": null,
            "grid_column": null,
            "grid_gap": null,
            "grid_row": null,
            "grid_template_areas": null,
            "grid_template_columns": null,
            "grid_template_rows": null,
            "height": null,
            "justify_content": null,
            "justify_items": null,
            "left": null,
            "margin": null,
            "max_height": null,
            "max_width": null,
            "min_height": null,
            "min_width": null,
            "object_fit": null,
            "object_position": null,
            "order": null,
            "overflow": null,
            "overflow_x": null,
            "overflow_y": null,
            "padding": null,
            "right": null,
            "top": null,
            "visibility": null,
            "width": null
          }
        },
        "f94829ad3d09437a9b787e5926978e9f": {
          "model_module": "@jupyter-widgets/controls",
          "model_module_version": "1.5.0",
          "model_name": "HTMLModel",
          "state": {
            "_dom_classes": [],
            "_model_module": "@jupyter-widgets/controls",
            "_model_module_version": "1.5.0",
            "_model_name": "HTMLModel",
            "_view_count": null,
            "_view_module": "@jupyter-widgets/controls",
            "_view_module_version": "1.5.0",
            "_view_name": "HTMLView",
            "description": "",
            "description_tooltip": null,
            "layout": "IPY_MODEL_13715babb5f041898b44b6d328f90878",
            "placeholder": "​",
            "style": "IPY_MODEL_b48141ec2cc4485a9b354d29ccd3025b",
            "value": " 6/6 [16:22&lt;00:00, 163.68s/it]"
          }
        }
      }
    }
  },
  "nbformat": 4,
  "nbformat_minor": 0
}